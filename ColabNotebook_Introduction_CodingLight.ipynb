{
  "cells": [
    {
      "cell_type": "markdown",
      "metadata": {
        "id": "view-in-github",
        "colab_type": "text"
      },
      "source": [
        "<a href=\"https://colab.research.google.com/github/neurologic/NeurophysiologyModules/blob/main/ColabNotebook_Introduction_CodingLight.ipynb\" target=\"_parent\"><img src=\"https://colab.research.google.com/assets/colab-badge.svg\" alt=\"Open In Colab\"/></a>"
      ]
    },
    {
      "cell_type": "markdown",
      "metadata": {
        "id": "roBKSNUFcXVD"
      },
      "source": [
        "# Introduction to Colab Notebooks\n",
        "\n",
        "This first notebook will introduce you to Colab Notebooks using Google's \"Colaboratory\" server. Colab notebooks are a handy coding environment for learning as well as sharing code with others.\n",
        "\n",
        "### At the end of this notebook, you'll be able to:\n",
        "* Recognize the main features of Colab Notebooks\n",
        "* Use Colab Notebooks to run Python3 Code\n",
        "* Identify and edit simple Markdown code\n",
        "* Practice interacting with data plots \n"
      ]
    },
    {
      "cell_type": "markdown",
      "source": [
        "<hr>\n",
        "\n",
        "### Table of Contents\n",
        "1. [Part I. Getting Started](#scrollTo=cYOzaYcQ0nzj)\n",
        "2. [Part II. About Python Code](#scrollTo=JX0q9xKQcXVE)\n",
        "2. [Part III. Using Markdown](#scrollTo=oj1HYRSacXVI)\n",
        "3. [Part IV. Generate some plots](#scrollTo=SJDS0Lc1cXVJ)\n",
        "\n",
        "<hr>"
      ],
      "metadata": {
        "id": "mTOgljlHoJxv"
      }
    },
    {
      "cell_type": "markdown",
      "source": [
        "## **Part I. Getting started**\n",
        "\n",
        "At any point, you can click navigation hyperlinks to jump around between sections. For example, return to the Introduction by clicking: [Return to the Introduction](#scrollTo=roBKSNUFcXVD)\n",
        "\n",
        "### About Colab Notebooks\n",
        "Colab notebooks allow you to combine **executable code**, **text**, and **code output** (such as images) in a single document. To save any work you do in a Colab notebook, it needs to be stored in your Google Drive account. You can then easily share your Colab notebooks with co-workers or friends, allowing them to comment on your notebooks or even edit them. To learn more, see [Overview of Colab](/notebooks/basic_features_overview.ipynb). \n",
        "\n",
        "To save a Colab notebook to your drive, you can use the File menu above and select ```Save a copy in Drive```. Notebooks will automatically be saved in a \"Colab Notebooks\" folder in your Google Drive. You can reorganize from there if you like. To re-open a notebook to view your work and/or continue working, open it directly from your Google Drive (If necessary: ```Open With``` -> ```connected apps``` -> ```Google Colaboratory```) \n",
        "\n",
        "Colab notebooks are Jupyter notebooks that are hosted by Colab. To learn more about the Jupyter project, see [jupyter.org](https://www.jupyter.org). They can run on Google's 'Research Collaboratory' platform (as you are doing now) so that you do not need to download any programs locally. However, working with these notebooks on Colab does require an internet connection. \n",
        "\n",
        "### Menu Options & Shortcuts\n",
        "There are also a large number of useful keyboard shortcuts. Click on the 'Tools' menu, and then 'Keyboard Shortcuts' to see a list.\n",
        "\n",
        "### \"Running\" Code\n",
        "In order for the text (code) written in these notebooks to **do** anything, the text needs to be **run**. Running code means *executing* it. The python <b>'kernel'</b> is the thing that executes your code. It is what connects the notebook (as you see it) with the DataHub computers at Google that run/execute code.\n",
        "\n",
        "### Types of Cells\n",
        "Colab Notebooks have two types of cells, a <b>Markdown</b> (like this one) and <b>Code</b>. You won't need to *run* the Markdown cells, just read through them. However, when we get to a code cell, you need to tell the kernel to run the lines of code that it contains. Then, the Python kernel will run whatever it recognizes as code within the cell.\n",
        "\n",
        "*How do you recognize a code cell?* Each code cell has a ```play button``` at the top left corner (a circle with a right-pointing triangle in it).\n",
        "When you click on a code cell, it will be popped out (shadowed) and you will then be in *command mode* for that cell. You can then press the play button to execute that code cell (and run the code it contains). Alternatively, you can hit ```Control + Enter``` on your keyboard.\n",
        "\n",
        "*Throughout the notebook, you will see instructions* starting with  **```TASK:```**. Often, the task includes running the code cell. Sometimes, the task will also includes making selection from a list or typing information into the code cell.  \n",
        "\n",
        "Most of the code in these notebooks have been hidden for clarity so that you can focus on the data exploration and visualization tasks and save most of the \"computer coding\" learning for another time. You can ignore anywhere that it says ```Show Code```. If you accidentally get \"inside\" one of these code cells, simply double-click to the right where you see either black space normal-looking text.  \n",
        "\n",
        "If you accidentally get \"inside of\" a Markdown cell, simply double click the version on the right-hand side of the cell to get back to normal-looking formatting. "
      ],
      "metadata": {
        "id": "cYOzaYcQ0nzj"
      }
    },
    {
      "cell_type": "markdown",
      "metadata": {
        "id": "JX0q9xKQcXVE"
      },
      "source": [
        "<a id=\"two\"></a>\n",
        "## **Part II. About Python Code**\n",
        "[Return to Table of Contents](#scrollTo=mTOgljlHoJxv)\n",
        "\n",
        "As you read in [\"Part I. Getting Started\"](#scrollTo=cYOzaYcQ0nzj), the document you are reading is not a static web page, but an interactive environment that lets you write and execute code.\n",
        "\n",
        "For example, here is a **code cell** with a short Python script that computes a value, stores it in a variable, and prints the result:\n"
      ]
    },
    {
      "cell_type": "code",
      "source": [
        "seconds_in_a_day = 24 * 60 * 60\n",
        "\n",
        "print(seconds_in_a_day)"
      ],
      "metadata": {
        "id": "7XkCx4J00cvz"
      },
      "execution_count": null,
      "outputs": []
    },
    {
      "cell_type": "markdown",
      "source": [
        "To execute the code in the above cell, select it with a click and then either press the play button to the left of the code, or use the keyboard shortcut \"Command/Ctrl+Enter\". \n",
        "\n",
        "Variables that you define in one cell can later be used in other cells:"
      ],
      "metadata": {
        "id": "YW50ir3H0fNr"
      }
    },
    {
      "cell_type": "code",
      "source": [
        "seconds_in_a_week = 7 * seconds_in_a_day\n",
        "\n",
        "print(seconds_in_a_week)"
      ],
      "metadata": {
        "id": "6XsOZRmr0hkr"
      },
      "execution_count": null,
      "outputs": []
    },
    {
      "cell_type": "markdown",
      "source": [
        "To edit the code, just click the cell and start editing. In the code cell below, type in a value for x after ```x = ``` (on the same line) and then run the code cell to print the value you assigned as an output of the code cell. "
      ],
      "metadata": {
        "id": "7CkgiVNK9lnv"
      }
    },
    {
      "cell_type": "code",
      "source": [
        "x = \n",
        "\n",
        "print(x)"
      ],
      "metadata": {
        "id": "mWDDx5MU98ps"
      },
      "execution_count": null,
      "outputs": []
    },
    {
      "cell_type": "markdown",
      "source": [
        "In Python, anything with a \"#\" in front of it is code annotation, and is not read by the computer. For example, see the code cell below. Follow the instructions in the last line of the code cell. "
      ],
      "metadata": {
        "id": "7KR7Pqdg-ZLg"
      }
    },
    {
      "cell_type": "code",
      "execution_count": null,
      "metadata": {
        "id": "ORET7doncXVF",
        "scrolled": true
      },
      "outputs": [],
      "source": [
        "# In Python, anything with a \"#\" in front of it is code annotation,\n",
        "# and is not read by the computer.\n",
        "\n",
        "# This print function allows us to generate messages.\n",
        "print('Nice work!')\n",
        "\n",
        "# Run this code cell to execute the code and generate the message."
      ]
    },
    {
      "cell_type": "markdown",
      "metadata": {
        "id": "oj1HYRSacXVI"
      },
      "source": [
        "<a id=\"three\"></a>\n",
        "## **Part III. Using Markdown**\n",
        "[Return to Table of Contents](#scrollTo=mTOgljlHoJxv)\n",
        "\n",
        "Markdown is useful because it can be formatted using simple symbols.\n",
        "* You can create bulleted lists using asterisks.\n",
        "* Similarly, you can create numbered lists using numbers.\n",
        "* You can **bold** with two asterisks or underscores on either side (`**bold**`) or *italicize* with one asterisk or underscore (`*italicize*`)\n",
        "* Pound signs (#) create headers. More pound signs means a smaller header.\n",
        "\n",
        "<b>Task:</b> Edit the markdown cell below with a quick biography of yourself. To edit, double click the cell. You should have your name as a big header, a short quippy subtitle for yourself as a smaller header, and a three bullet points that use both <b>bold</b> and <i>italic</i>. As you type, you will see a preview to the right of what you are typing. After you finish editing it, double-click on the preview to the right to finalize the Markdown (or hit Shift+Enter). You can re-edit as much as needed by double-clicking again on the Markdown cell. "
      ]
    },
    {
      "cell_type": "markdown",
      "metadata": {
        "id": "K6fuFJI6cXVJ"
      },
      "source": [
        "Edit this markdown cell!"
      ]
    },
    {
      "cell_type": "markdown",
      "metadata": {
        "id": "SJDS0Lc1cXVJ"
      },
      "source": [
        "<a id=\"four\"></a>\n",
        "## **Part IV: Generate some plots**\n",
        "[Return to Table of Contents](#scrollTo=mTOgljlHoJxv)\n",
        "\n",
        "### Step 1. Import packages \n",
        "We can take advantage of pre-packaged code for many common functions in Python. But first, we need to tell Python to import it. This is a really common step for most Python code.\n",
        "\n",
        "We'll import a package called [\"numpy\"](https://numpy.org/doc/stable/user/index.html) and nickname it \"np\", [\"plotly\" graph objects](https://plotly.com/python/graph-objects/) and nickname it \"go\", and ['pandas'](https://pandas.pydata.org/docs/user_guide/index.html) and nickname it \"pd\". When you see \"np\" in our script, it's actually calling scripts from the numpy package. \n",
        "\n",
        "<b> TASK: </b> Run the code cell below to instruct Python to import the numpy and plotly packages so that we can use them. \n",
        "\n",
        "After you import it, Python will print a message. Having printed messages like these is a really nice way to check that your cell actually ran."
      ]
    },
    {
      "cell_type": "code",
      "execution_count": null,
      "metadata": {
        "id": "2-k_nGyLcXVK"
      },
      "outputs": [],
      "source": [
        "import numpy as np\n",
        "import plotly.express as px\n",
        "import pandas as pd\n",
        "print('Imported packages')"
      ]
    },
    {
      "cell_type": "markdown",
      "metadata": {
        "id": "CazRj4AWcXVN"
      },
      "source": [
        "### Step 2: Create some random data to plot\n",
        "We'll use a function \"random.rand\" to create a random list of numbers.<br>\n",
        " \n",
        "**TASK:** You decide on how long this list of numbers should be (anything between 5 to 100 is fine) by adding a value next to \"list_length\"."
      ]
    },
    {
      "cell_type": "code",
      "execution_count": null,
      "metadata": {
        "id": "o9-dMprfcXVN"
      },
      "outputs": [],
      "source": [
        "# Add your numerical value next to list_length below.\n",
        "list_length = \n",
        "\n",
        "random_list = np.random.rand(list_length,1)\n",
        "print('Created a random list')"
      ]
    },
    {
      "cell_type": "markdown",
      "metadata": {
        "id": "UQaFSZzjcXVP"
      },
      "source": [
        "Let's make sure Python did what we wanted it to do (save our random list as a variable).<br>\n",
        "\n",
        "**TASK:** Check by typing the variable name into the next cell, and running it. If that worked, you should see an array of values."
      ]
    },
    {
      "cell_type": "code",
      "execution_count": null,
      "metadata": {
        "id": "D0KWJO7TcXVQ"
      },
      "outputs": [],
      "source": [
        ""
      ]
    },
    {
      "cell_type": "markdown",
      "source": [
        "### Step 3: Create a dataframe to store the random list.\n",
        "We'll use a function \"DataFrame\" from \"pandas\" (pd) to create a dataframe to store the data. DataFrames are kind of like spreadsheets. Each column can be a different set of data. Rows can be different entries of that data (in this case random numbers). \n",
        "\n",
        "**Task:** Run the code cell below to store the random list in a dataframe called \"data\" and display the first 5 rows of the dataframe as an output. "
      ],
      "metadata": {
        "id": "L47UGD8GExRk"
      }
    },
    {
      "cell_type": "code",
      "source": [
        "data = pd.DataFrame(random_list,columns=['random_list'])\n",
        "display(data.head())"
      ],
      "metadata": {
        "id": "fz-PIE3qExws"
      },
      "execution_count": null,
      "outputs": []
    },
    {
      "cell_type": "markdown",
      "metadata": {
        "id": "jmaqlhDYcXVS"
      },
      "source": [
        "### Step 4: Plot your data\n",
        "Let's pretend this is data from an awesome experiment we ran. We need to plot the data. We already imported a package \"plotly.express\" as \"px\" above to help us plot the data. We'll now use the \"line\" function to plot our random list as a line.\n",
        "\n",
        "**TASK:** Run the code cell below to plot the data. "
      ]
    },
    {
      "cell_type": "code",
      "execution_count": null,
      "metadata": {
        "id": "zCs54ZDBcXVT",
        "scrolled": true
      },
      "outputs": [],
      "source": [
        "# line() is plotly's basic plotting function\n",
        "# below, we're asking it to plot the random_list we just created\n",
        "# the resulting figure is assigned to a variable (\"fig\") as well. \n",
        "fig = px.line(data,y=\"random_list\")\n",
        "\n",
        "# fig.show() will show our plot below\n",
        "fig.show()"
      ]
    },
    {
      "cell_type": "markdown",
      "metadata": {
        "id": "SEUC3p1xcXVW"
      },
      "source": [
        "When you hover over the plot, you will see some action buttons in the top right corner. These allow you to zoom in, pan around, reset, and save the figure. \n",
        "\n",
        "<b>TASKS:</b>\n",
        "    \n",
        "1. Hover over the data to see the x and y values. \n",
        "\n",
        "2. Zoom in on a smaller section of the plot. Click on the ```Zoom``` icon that looks like a magnifying glass with a square in it. Then draw a box around a region of your data that you want to zoom in on.  \n",
        "\n",
        "3. Pan around the data in this zoomed in view. Click the ```Pan``` icon, which is two arrows perpendicular to each other (to the right of Zoom). Hold the right mouse click down on the plot and drag it around. Release and re-click to drag further\n",
        "\n",
        "4. Reset the view back to normal by clicking the ```Home``` icon (looks like a house).\n",
        "\n",
        "5. Download your plot as a *png* file by clicking the ```Download``` icon that looks like a camera (all the way to the left of the icon list). \n",
        "\n",
        "6. Click on your downloaded png file by clicking on it in your computer's file system navigator. This is how you will be saving the figure you create in future notebooks. "
      ]
    },
    {
      "cell_type": "markdown",
      "metadata": {
        "id": "qnWWCWnQcXVc"
      },
      "source": [
        "### **Part V: Bonus celebration** \n",
        "That's the Colab Notebook tutorial! You're ready to tackle Colab Notebooks in the course. \n",
        "\n",
        "Celebrate your new skills by running the code cell below.\n"
      ]
    },
    {
      "cell_type": "code",
      "execution_count": null,
      "metadata": {
        "id": "AK76YhTJcXVd"
      },
      "outputs": [],
      "source": [
        "from IPython.display import HTML\n",
        "HTML('<img src=\"https://media.giphy.com/media/l0MYt5jPR6QX5pnqM/giphy.gif\">')"
      ]
    },
    {
      "cell_type": "markdown",
      "source": [
        "[Return to Table of Contents](#scrollTo=mTOgljlHoJxv)"
      ],
      "metadata": {
        "id": "66uRlOu2J5hE"
      }
    },
    {
      "cell_type": "markdown",
      "metadata": {
        "id": "3zM3wDoHcXVf"
      },
      "source": [
        "## Additional Resources\n",
        "For additional Jupyter Notebook information and practice if you want it for your own data science needs in the future, see [this tutorial](https://www.dataquest.io/blog/jupyter-notebook-tutorial/) from DataQuest. \n",
        "\n",
        "This notebook was modified from [Introduction to Jupyter Notebooks.ipynb](https://colab.research.google.com/github/ajuavinett/CellTypesLesson/blob/master/Introduction%20to%20Jupyter%20Notebooks.ipynb) created by [Ashley Juavinett](https://github.com/ajuavinett/)\n"
      ]
    }
  ],
  "metadata": {
    "colab": {
      "collapsed_sections": [],
      "name": "ColabNotebook_Introduction_CodingLight.ipynb",
      "provenance": [],
      "include_colab_link": true
    },
    "kernelspec": {
      "display_name": "Python 3",
      "language": "python",
      "name": "python3"
    },
    "language_info": {
      "codemirror_mode": {
        "name": "ipython",
        "version": 3
      },
      "file_extension": ".py",
      "mimetype": "text/x-python",
      "name": "python",
      "nbconvert_exporter": "python",
      "pygments_lexer": "ipython3",
      "version": "3.8.11"
    }
  },
  "nbformat": 4,
  "nbformat_minor": 0
}