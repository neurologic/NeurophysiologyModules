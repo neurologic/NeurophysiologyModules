{
  "cells": [
    {
      "cell_type": "markdown",
      "metadata": {
        "id": "view-in-github",
        "colab_type": "text"
      },
      "source": [
        "<a href=\"https://colab.research.google.com/github/neurologic/NeurophysiologyModules/blob/main/Kinematics_WithPCA_WBDSdataset_WithOutput.ipynb\" target=\"_parent\"><img src=\"https://colab.research.google.com/assets/colab-badge.svg\" alt=\"Open In Colab\"/></a>"
      ]
    },
    {
      "cell_type": "markdown",
      "source": [
        "# Table of Contents\n",
        "> Each of the section headers in this table of contents is linked to the sections of the notebooks to help you navigate. \n",
        "\n",
        "1. [Introduction](#scrollTo=5be65f0d-d29b-4756-ab52-b080ba4a24d5)\n",
        "2. [Preparatory Steps](#scrollTo=770856d7-2f01-469c-b77e-e0026b48763b)\n",
        "3. Raw Data \n",
        "- Dataset Selection and Loading\n",
        " - [select a dataset](#scrollTo=edbebb54-81d1-4cc7-a4ab-70ecf17c11e5)\n",
        " - [load the selected dataset](#scrollTo=Hw0TwgunODC-)\n",
        "- [Menu](#scrollTo=RFTAKrAzZ2jN) of analyses for the raw dataset (Steps 4-6 below)\n",
        " - [4. Explore raw kinematics data](#scrollTo=31d41f94-24df-4420-ac7d-639a2b48b37e)\n",
        " - [5. Explore ground reaction force data](#scrollTo=80923d9b-7946-40ec-b795-838718d7a116)\n",
        " - [6. Identify individual gait cycle trials](#scrollTo=iR6gql9Ba4NT)\n",
        "7. Processed Data: [Analyze time-normalized and processed data](#scrollTo=51cdb5b3-5657-43c3-8ccf-c8147e5f7efb)\n",
        "8. [Low-dimensional representation of walking](#scrollTo=hXStrNF_ANpn)"
      ],
      "metadata": {
        "id": "Y1JpSgWhMmRs"
      },
      "id": "Y1JpSgWhMmRs"
    },
    {
      "cell_type": "markdown",
      "id": "5be65f0d-d29b-4756-ab52-b080ba4a24d5",
      "metadata": {
        "id": "5be65f0d-d29b-4756-ab52-b080ba4a24d5"
      },
      "source": [
        "# 1. Introduction\n",
        "([Return to Table of Contents](#scrollTo=Y1JpSgWhMmRs))\n",
        "\n",
        "Kinematics is the study and quantification of how objects move. In this notebook you will explore a dataset from [Fukuchi et al (2018)](https://peerj.com/articles/4640/) in which markers placed at specific locations along the body were tracked during walking (either overland or on a treadmill). Note that the nomenclature for the marker points in this dataset vary slightly from [the marker placement resource](https://www.sciencedirect.com/science/article/pii/S0966636207000124?via%3Dihub)  referenced in Fukuchi et al (2018). Force plates were used to quantify ground contact forces during walking (\"kinetics\"). \n",
        "\n",
        "<img src='https://drive.google.com/uc?export=view&id=1zuawHOnk-Y_rs4wkqpXP_PnNPdHYTZZ4' width=300px>\n"
      ]
    },
    {
      "cell_type": "markdown",
      "id": "770856d7-2f01-469c-b77e-e0026b48763b",
      "metadata": {
        "id": "770856d7-2f01-469c-b77e-e0026b48763b"
      },
      "source": [
        "# 2) Some necessary preparatory steps.\n",
        "([Return to Table of Contents](#scrollTo=Y1JpSgWhMmRs))"
      ]
    },
    {
      "cell_type": "code",
      "execution_count": 1,
      "id": "52fd61e0-d203-4664-b783-a6e2c7392fde",
      "metadata": {
        "cellView": "form",
        "id": "52fd61e0-d203-4664-b783-a6e2c7392fde",
        "outputId": "7c473606-8daa-47b3-b8b0-5b735339400f",
        "colab": {
          "base_uri": "https://localhost:8080/"
        }
      },
      "outputs": [
        {
          "output_type": "stream",
          "name": "stdout",
          "text": [
            "Nice work!\n",
            "Task completed at 2022-01-28 09:06:09.436502-05:00\n"
          ]
        }
      ],
      "source": [
        "#@markdown <b>TASK: </b> RUN this cell to set up the notebook (import packages, etc)\n",
        "# In Python, anything with a \"#\" in front of it is code annotation,\n",
        "# and is not read by the computer.\n",
        "# You can run a cell (this box) by pressing ctrl-enter or shift-enter.\n",
        "# You can also run a cell by clicking the play button in the menu bar \n",
        "# at the top of the page (single right arrow, not double).\n",
        "# Click in this cell and then press shift and enter simultaneously.\n",
        "# This print function below allows us to generate a message.\n",
        "print('Nice work!')\n",
        "\n",
        "# No need to edit anything in this code cell\n",
        "#################################\n",
        "\n",
        "import numpy as np\n",
        "import pandas as pd\n",
        "from scipy import ndimage\n",
        "from scipy.signal import find_peaks\n",
        "from copy import deepcopy\n",
        "import math\n",
        "from sklearn.decomposition import PCA\n",
        "from sklearn.cluster import KMeans\n",
        "from pathlib import Path\n",
        "import matplotlib.pyplot as plt\n",
        "import plotly.express as px\n",
        "import plotly.graph_objects as go\n",
        "from plotly.subplots import make_subplots\n",
        "import ipywidgets as widgets\n",
        "from IPython.display import display\n",
        "import csv\n",
        "from scipy.signal import hilbert,medfilt,resample\n",
        "from scipy.io import wavfile\n",
        "from sklearn.decomposition import PCA\n",
        "import scipy\n",
        "import seaborn as sns\n",
        "from datetime import datetime,timezone,timedelta\n",
        "pal = sns.color_palette(n_colors=15)\n",
        "pal = pal.as_hex()\n",
        "\n",
        "\n",
        "# datafolder = \"/content/drive/Shareddrives/BIOL358/Data/WBDSascii\"\n",
        "datafolder = \"/content/drive/MyDrive/Classroom/BIOL358: Motor Systems/Data/WBDSascii\"\n",
        "# datafolder = '/Users/kperks/OneDrive - wesleyan.edu/Teaching/MotorSystems_SP22/Data/WBDSascii/'\n",
        "\n",
        "fs_grf = 300\n",
        "fs_mkr = 150\n",
        "\n",
        "def cart2pol(x, y):\n",
        "    rho = np.sqrt(x**2 + y**2)\n",
        "    phi = np.arctan2(y, x)\n",
        "    return(rho, phi)\n",
        "    \n",
        "print('Task completed at ' + str(datetime.now(timezone(-timedelta(hours=5)))))"
      ]
    },
    {
      "cell_type": "code",
      "execution_count": 2,
      "id": "ae2e8762-2ff8-4820-b840-997b28302a38",
      "metadata": {
        "cellView": "form",
        "id": "ae2e8762-2ff8-4820-b840-997b28302a38",
        "outputId": "452e81fe-439e-4367-eda8-7826979713fd",
        "colab": {
          "base_uri": "https://localhost:8080/"
        }
      },
      "outputs": [
        {
          "output_type": "stream",
          "name": "stdout",
          "text": [
            "Mounted at /content/drive\n",
            "Task completed at 2022-01-28 09:06:28.814377-05:00\n"
          ]
        }
      ],
      "source": [
        "#@markdown <b>TASK: </b> RUN this cell to mount your Google Drive, where you will access the raw data from.\n",
        "#@markdown > Follow all instructions as prompted by pop-ups.\n",
        "from google.colab import drive\n",
        "drive.mount('/content/drive')\n",
        "\n",
        "print('Task completed at ' + str(datetime.now(timezone(-timedelta(hours=5)))))"
      ]
    },
    {
      "cell_type": "markdown",
      "id": "edbebb54-81d1-4cc7-a4ab-70ecf17c11e5",
      "metadata": {
        "id": "edbebb54-81d1-4cc7-a4ab-70ecf17c11e5"
      },
      "source": [
        "# 3) Select which raw data (who, where, how fast?).  \n",
        "[Return to Table of Contents](#scrollTo=Y1JpSgWhMmRs)\n",
        "\n",
        "Choose a person, environment, and speed (note different selection options based on the environment chosen). \n",
        "\n",
        "> <b> TASK (*one time per active notebook session*): </b> Run the code cell below to activate the dropdown menus for selection.\n",
        "> > NOTE: you should only need to run the code cell below once per active colab session to activate the dropdown menus. If you can change your selections, it is activated. You can change your selections at any time and load your selection using the [Load Dataset](#scrollTo=Hw0TwgunODC-) code cell."
      ]
    },
    {
      "cell_type": "code",
      "execution_count": null,
      "id": "c7e34cf9-b37a-4630-8059-c7bd38672707",
      "metadata": {
        "cellView": "form",
        "id": "c7e34cf9-b37a-4630-8059-c7bd38672707"
      },
      "outputs": [],
      "source": [
        "#@markdown Activate Dropdown Menus if needed.\n",
        " \n",
        "w_subj = widgets.Select(\n",
        "    options=['select person (01-42)'] + [format(x,'02d') for x in range(1,43,1)],\n",
        "    value='select person (01-42)',\n",
        "    # rows=10,\n",
        "    disabled=False\n",
        ")\n",
        "w_env = widgets.Select(\n",
        "    options=['select environment','Overland','Treadmill'],\n",
        "    value='select environment',\n",
        "    rows=3,disabled=False\n",
        ")\n",
        "w_Ospeed = widgets.Select(\n",
        "    options=['select speed for overland','Comfortable','Fast','Slow'],\n",
        "    value='select speed for overland',\n",
        "    rows=4,disabled=False\n",
        ")\n",
        "w_Tspeed = widgets.Select(\n",
        "    options=['select speed for treadmill (01-08)'] + [format(x,'02d') for x in range(1,9,1)],\n",
        "    value='select speed for treadmill (01-08)',\n",
        "    rows=5,disabled=False\n",
        ")\n",
        "display(w_subj,w_env,w_Ospeed,w_Tspeed)\n",
        "print('Dropdowns generated at ' + str(datetime.now(timezone(-timedelta(hours=5)))))"
      ]
    },
    {
      "cell_type": "markdown",
      "source": [
        "Once you have made your selection, then load the dataset.\n",
        "\n",
        "<b> TASK: </b> Run the code cell below to load the dataset [you selected above](#scrollTo=edbebb54-81d1-4cc7-a4ab-70ecf17c11e5)"
      ],
      "metadata": {
        "id": "BPpUAFtHP3ME"
      },
      "id": "BPpUAFtHP3ME"
    },
    {
      "cell_type": "code",
      "source": [
        "#@markdown ## **Load Dataset**\n",
        "#@markdown >Note: If you change your dataset selections above, re-run this cell.\n",
        "#@markdown You only need to load each dataset once, \n",
        "#@markdown You can make new Kinematics and Kinetics selections from the menus\n",
        "#@markdown below without re-running this cell. \n",
        "\n",
        "if w_env.value=='Overland':\n",
        "    speed = w_Ospeed.value[0]\n",
        "    trial = '01'\n",
        "if w_env.value=='Treadmill':\n",
        "    speed = w_Tspeed.value\n",
        "    trial = ''\n",
        "\n",
        "filename = 'WBDS' + str(w_subj.value) + 'walk' + w_env.value[0] + trial + speed \n",
        "\n",
        "filepath = Path(datafolder) / (filename + 'mkr.txt')\n",
        "if filepath.exists():\n",
        "    dataframe = pd.read_csv(filepath, sep='\\t')\n",
        "    print('Kinematic Data loaded at ' + str(datetime.now(timezone(-timedelta(hours=5)))))\n",
        "\n",
        "if filepath.exists()==False:\n",
        "    print('Data selection does not exist. Check selections and correct errors.')\n",
        "    print('Task not yet completed, but cell ran at ' + str(datetime.now(timezone(-timedelta(hours=5)))))    \n",
        "\n",
        "filepath_grf = Path(datafolder) / (filename + 'grf.txt')\n",
        "if filepath_grf.exists():\n",
        "    grf_trial = pd.read_csv(filepath_grf,sep='\\t')\n",
        "    grf_trial['Time']/=fs_grf\n",
        "    print('Kinetic Data loaded at ' + str(datetime.now(timezone(-timedelta(hours=5)))))\n",
        "\n",
        "if filepath_grf.exists()==False:\n",
        "    print('Data selection does not exist. Check selections and correct errors.')\n",
        "    print('Task not yet completed, but cell ran at ' + str(datetime.now(timezone(-timedelta(hours=5)))))\n",
        "\n",
        "w_markers = widgets.SelectMultiple(\n",
        "    options=list(dataframe.columns)[1:],\n",
        "    rows=15)\n",
        "\n",
        "w_fp = widgets.SelectMultiple(\n",
        "    options=list(grf_trial.columns)[1:],\n",
        "    rows=10)\n",
        "print('')\n",
        "print('')\n",
        "print('Select which kinematics variables you want to plot from the following list:')\n",
        "display(w_markers)\n",
        "print('')\n",
        "print('')\n",
        "print('Select which kinetic variables you want to plot from the following list:')\n",
        "display(w_fp)\n",
        "print('Dropdown menus created at ' + str(datetime.now(timezone(-timedelta(hours=5)))))\n",
        "\n",
        "\n",
        "\n",
        "\n"
      ],
      "metadata": {
        "cellView": "form",
        "id": "Hw0TwgunODC-"
      },
      "id": "Hw0TwgunODC-",
      "execution_count": null,
      "outputs": []
    },
    {
      "cell_type": "markdown",
      "source": [
        "### Raw data analysis menu:\n",
        "> With the selections you have made above, you can:\n",
        "- [4) Explore the raw kinematics data](#scrollTo=31d41f94-24df-4420-ac7d-639a2b48b37e)\n",
        "- [5) Explore the ground reaction force data from treadmill environments](#scrollTo=80923d9b-7946-40ec-b795-838718d7a116)\n",
        "- [6) Identify individual gait cycle trials](#scrollTo=iR6gql9Ba4NT) and \n",
        "   - [create plots of gait cycle trials](#scrollTo=4N8i5DBwchGM) for: [kinetic](#scrollTo=3EApNSSgr3vu) and [kinematic](#scrollTo=FHFS8FMxd1jv) variables.  \n",
        "\n",
        "[Return to Table of Contents](#scrollTo=Y1JpSgWhMmRs)"
      ],
      "metadata": {
        "id": "RFTAKrAzZ2jN"
      },
      "id": "RFTAKrAzZ2jN"
    },
    {
      "cell_type": "markdown",
      "id": "31d41f94-24df-4420-ac7d-639a2b48b37e",
      "metadata": {
        "id": "31d41f94-24df-4420-ac7d-639a2b48b37e"
      },
      "source": [
        "# 4) Explore the raw kinematics data\n",
        "([Return to Table of Contents](#scrollTo=Y1JpSgWhMmRs))\n",
        "\n",
        "([Return to Raw Data Analysis Menu](#scrollTo=RFTAKrAzZ2jN))\n",
        "\n",
        "**TASK:** Run the cell below to plot the [selected kinematics variables](#scrollTo=Hw0TwgunODC-) for your [selected dataset](#scrollTo=edbebb54-81d1-4cc7-a4ab-70ecf17c11e5). You can select different kinematics variables and re-make the plot as many times as you want. "
      ]
    },
    {
      "cell_type": "code",
      "execution_count": null,
      "id": "8ff3a3e7-6072-4957-affc-00ae78ee5888",
      "metadata": {
        "cellView": "form",
        "id": "8ff3a3e7-6072-4957-affc-00ae78ee5888"
      },
      "outputs": [],
      "source": [
        "#@markdown **Plot Selected Kinematic Variables**\n",
        "fig = go.Figure()\n",
        "if len(w_markers.value)>0:\n",
        "    for marker in list(w_markers.value):\n",
        "        fig.add_trace(go.Scatter(x = dataframe['Time'], y = dataframe[marker],name=marker))\n",
        "    print('Task completed at ' + str(datetime.now(timezone(-timedelta(hours=5)))))\n",
        "\n",
        "if len(w_markers.value)==0:\n",
        "    print('Need to select markers to plot')\n",
        "    print('Task not completed yet, but cell run at ' + str(datetime.now(timezone(-timedelta(hours=5)))))\n",
        "    \n",
        "fig.update_layout(xaxis_title=\"time(seconds)\", yaxis_title='position (centimeters)',width=800, height=500)"
      ]
    },
    {
      "cell_type": "markdown",
      "id": "80923d9b-7946-40ec-b795-838718d7a116",
      "metadata": {
        "id": "80923d9b-7946-40ec-b795-838718d7a116"
      },
      "source": [
        "# 5) Explore ground reaction force data \n",
        "([Return to Table of Contents](#scrollTo=Y1JpSgWhMmRs))\n",
        "\n",
        "([Return to Raw Data Analysis Menu](#scrollTo=RFTAKrAzZ2jN))\n",
        "\n",
        "**TASK:** Go back to [modify your dataset selections (step 3)](#scrollTo=edbebb54-81d1-4cc7-a4ab-70ecf17c11e5) so that you have data from a Treadmill environment. Don't forget to also [load the dataset (step3)](#scrollTo=Hw0TwgunODC-). Select a subset of ground force measurements to examine. Run the cell below to plot your selection. "
      ]
    },
    {
      "cell_type": "code",
      "execution_count": null,
      "id": "497d8d55-d565-4e1a-a54e-c7da8ba2d772",
      "metadata": {
        "cellView": "form",
        "id": "497d8d55-d565-4e1a-a54e-c7da8ba2d772"
      },
      "outputs": [],
      "source": [
        "#@markdown **Plot the ground reaction force measurements you selected.**\n",
        "\n",
        "fig = go.Figure()\n",
        "if len(w_fp.value)>0:\n",
        "    for fp in list(w_fp.value):\n",
        "        fig.add_trace(go.Scatter(x = grf_trial['Time'], y = grf_trial[fp],name=fp))\n",
        "    print('Plot created at ' + str(datetime.now(timezone(-timedelta(hours=5)))))\n",
        "\n",
        "if len(w_fp.value)==0:\n",
        "    print('Need to select markers to plot')\n",
        "    print('Task not completed, but cell run at ' + str(datetime.now(timezone(-timedelta(hours=5)))))\n",
        "\n",
        "fig.update_layout(xaxis_title=\"time(seconds)\", yaxis_title='force',width=800, height=500)\n",
        "\n"
      ]
    },
    {
      "cell_type": "markdown",
      "source": [
        "#6) Identify individual gait cycle trials\n",
        "([Return to Table of Contents](#scrollTo=Y1JpSgWhMmRs))\n",
        "\n",
        "([Return to Raw Data Analysis Menu](#scrollTo=RFTAKrAzZ2jN))\n",
        "\n",
        "<b>TASK: </b> Based on the ground force measurements you [plotted above](#scrollTo=497d8d55-d565-4e1a-a54e-c7da8ba2d772), determine 3 trial start times to start. Each trial is a single gait cycle. \n",
        "\n",
        "In the code cell below, there is a form with spots to create a list of trial start times and assign a variable for the approximate gait cycle period. Single click just above the line (or highlight the text) to edit the form entries. After filling in the necessary information, run the code cell to store the information into temporary memory. "
      ],
      "metadata": {
        "id": "iR6gql9Ba4NT"
      },
      "id": "iR6gql9Ba4NT"
    },
    {
      "cell_type": "code",
      "execution_count": null,
      "id": "1814abac-ca52-4ddb-8490-b131456a3eba",
      "metadata": {
        "id": "1814abac-ca52-4ddb-8490-b131456a3eba",
        "cellView": "form"
      },
      "outputs": [],
      "source": [
        "#@markdown <b>TASK: </b> Type a list of trial times below. \n",
        "#@markdown >The formatting of the list must be trial start times (in seconds)\n",
        "#@markdown separated by commas. The whole list must be surrounded by hard brackets. \n",
        "#@markdown For example: ```[1.24,5.67,8.98]```\n",
        "trials = [None] #@param {type:\"raw\"}\n",
        "\n",
        "#@markdown <b>TASK: </b> Type the gait cycle period below (in seconds). \n",
        "period =  None#@param {type:\"number\"}\n",
        "\n",
        "#@markdown <b>TASK: </b> After you have created a list of start times \n",
        "#@markdown and specified a period, run this cell to store the values in memory for the next task. \n",
        "\n",
        "offset = 0.5\n",
        "persamps = int(period*fs_grf)+int(offset*fs_grf)\n",
        "trial_inds = [int((t-offset)*fs_grf) for t in trials]\n",
        "xtime = np.linspace(-offset,period,persamps)\n",
        "\n",
        "print('Tasks completed at ' + str(datetime.now(timezone(-timedelta(hours=5)))))\n",
        "\n"
      ]
    },
    {
      "cell_type": "markdown",
      "source": [
        "### Create plots of trial data.\n",
        "([Return to Raw Data Analysis Menu](#scrollTo=RFTAKrAzZ2jN))\n",
        "\n",
        "**TASK:** Go back to [select kinematic and kinetic variables](#scrollTo=Hw0TwgunODC-) from the dataset to examine on the trials [you specified above](#scrollTo=1814abac-ca52-4ddb-8490-b131456a3eba). Run the cells below to plot your selections. \n",
        "\n",
        "> You can change the values listed for \"trials\" and \"period\" and re-make the plots below at any time.\n",
        "> NOTE: if you change the trial times or period, you need to [re-run that cell](#scrollTo=1814abac-ca52-4ddb-8490-b131456a3eba) before re-running the plotting code cells below. \n"
      ],
      "metadata": {
        "id": "4N8i5DBwchGM"
      },
      "id": "4N8i5DBwchGM"
    },
    {
      "cell_type": "code",
      "source": [
        "#@markdown Plot the kinetic measurements on each trial specified.\n",
        "\n",
        "offset = 0.5\n",
        "persamps = int(period*fs_grf)+int(offset*fs_grf)\n",
        "trial_inds = [int((t-offset)*fs_grf) for t in trials]\n",
        "xtime = np.linspace(-offset,period,persamps)\n",
        "\n",
        "fig = go.Figure()\n",
        "\n",
        "if len(w_fp.value)>0:\n",
        "    for fp in list(w_fp.value):\n",
        "      for t in trial_inds:\n",
        "        fig.add_trace(go.Scatter(x = xtime, y = grf_trial[fp][t:t+persamps],name=fp+' at trial ' +str(round(t/fs_grf,2)+offset)))\n",
        "    print('Task completed at ' + str(datetime.now(timezone(-timedelta(hours=5)))))\n",
        "\n",
        "if len(w_fp.value)==0:\n",
        "    print('Need to select markers to plot')\n",
        "    print('Task not completed, but cell run at ' + str(datetime.now(timezone(-timedelta(hours=5)))))\n",
        "\n",
        "fig.update_layout(xaxis_title=\"time(seconds)\", yaxis_title='force',width=800, height=500)\n",
        "\n"
      ],
      "metadata": {
        "cellView": "form",
        "id": "3EApNSSgr3vu"
      },
      "id": "3EApNSSgr3vu",
      "execution_count": null,
      "outputs": []
    },
    {
      "cell_type": "markdown",
      "source": [
        "([Return to Raw Data Analysis Menu](#scrollTo=RFTAKrAzZ2jN))"
      ],
      "metadata": {
        "id": "qG-7zewclSn5"
      },
      "id": "qG-7zewclSn5"
    },
    {
      "cell_type": "code",
      "source": [
        "\n",
        "#@markdown Plot the kinematics measurements on each trial specified.\n",
        "\n",
        "offset = 0.5\n",
        "persamps = int(period*fs_mkr)+int(offset*fs_mkr)\n",
        "trial_inds = [int((t-offset)*fs_mkr) for t in trials]\n",
        "xtime = np.linspace(-offset,period,persamps)\n",
        "\n",
        "fig = go.Figure()\n",
        "\n",
        "if len(w_markers.value)>0:\n",
        "    for marker in list(w_markers.value):\n",
        "      for t in trial_inds:\n",
        "        fig.add_trace(go.Scatter(x = xtime, y = dataframe[marker][t:t+persamps],name=str(marker)+' at trial ' +str(round(t/fs_mkr,2))))\n",
        "    print('Task completed at ' + str(datetime.now(timezone(-timedelta(hours=5)))))\n",
        "\n",
        "if len(w_markers.value)==0:\n",
        "    print('Need to select markers to plot')\n",
        "    print('Task not completed, but cell run at ' + str(datetime.now(timezone(-timedelta(hours=5)))))\n",
        "\n",
        "fig.update_layout(xaxis_title=\"time(seconds)\", yaxis_title='force',width=800, height=500)\n"
      ],
      "metadata": {
        "cellView": "form",
        "id": "FHFS8FMxd1jv"
      },
      "id": "FHFS8FMxd1jv",
      "execution_count": null,
      "outputs": []
    },
    {
      "cell_type": "markdown",
      "source": [
        "([Return to Raw Data Analysis Menu](#scrollTo=RFTAKrAzZ2jN))"
      ],
      "metadata": {
        "id": "nKB32vvhlVMw"
      },
      "id": "nKB32vvhlVMw"
    },
    {
      "cell_type": "markdown",
      "id": "51cdb5b3-5657-43c3-8ccf-c8147e5f7efb",
      "metadata": {
        "id": "51cdb5b3-5657-43c3-8ccf-c8147e5f7efb"
      },
      "source": [
        "# 7) Analyze time-normalized processed data\n",
        "([Return to Table of Contents](#scrollTo=Y1JpSgWhMmRs))\n",
        "\n",
        "Ok. Now that you have a sense of the data, let's look at time-normalized processed data. \n"
      ]
    },
    {
      "cell_type": "markdown",
      "source": [
        "\n",
        "### Select which data you want to examine (who, where, how fast?).  \n",
        "From the menus in the cell below, choose a person, environment, and speed (note different selection options based on the environment chosen). \n",
        "\n",
        "In this step, the data that you will explore is trial-averaged measurements (the average across trials for each. The data is \"time-normalized\" so that the kinematics and kinetics are a function of the gait cycle (from start to stop - 0 to 100% of the gait cycle) instead of time. \n",
        "\n",
        "> <b> TASK (*one time per active notebook session*): </b> Run the code cell below to activate the dropdown menus for selection.\n",
        "> > NOTE: you should only need to run the code cell below once per active colab session to activate the dropdown menus. If you can change your selections, it is activated. You can change your selections at any time and load your selection using the [Load Dataset](#scrollTo=Hw0TwgunODC-) code cell."
      ],
      "metadata": {
        "id": "WFZLoPamhej1"
      },
      "id": "WFZLoPamhej1"
    },
    {
      "cell_type": "code",
      "source": [
        "#@markdown Activate Dropdown Menus if needed.\n",
        " \n",
        "w_subj = widgets.Select(\n",
        "    options=['select person (01-42)'] + [format(x,'02d') for x in range(1,43,1)],\n",
        "    value='select person (01-42)',\n",
        "    # rows=10,\n",
        "    disabled=False\n",
        ")\n",
        "w_env = widgets.Select(\n",
        "    options=['select environment','Overland','Treadmill'],\n",
        "    value='select environment',\n",
        "    rows=3,disabled=False\n",
        ")\n",
        "w_Ospeed = widgets.Select(\n",
        "    options=['select speed for overland','Comfortable','Fast','Slow'],\n",
        "    value='select speed for overland',\n",
        "    rows=4,disabled=False\n",
        ")\n",
        "w_Tspeed = widgets.Select(\n",
        "    options=['select speed for treadmill (01-08)'] + [format(x,'02d') for x in range(1,9,1)],\n",
        "    value='select speed for treadmill (01-08)',\n",
        "    rows=5,disabled=False\n",
        ")\n",
        "display(w_subj,w_env,w_Ospeed,w_Tspeed)\n",
        "print('Dropdowns generated at ' + str(datetime.now(timezone(-timedelta(hours=5)))))\n",
        "\n"
      ],
      "metadata": {
        "cellView": "form",
        "id": "sBXsSYzc0vuq"
      },
      "id": "sBXsSYzc0vuq",
      "execution_count": null,
      "outputs": []
    },
    {
      "cell_type": "markdown",
      "source": [
        "<b> TASK: </b> Once you have made your selection, then load the dataset. Run the code cell below to load the dataset [you selected above](#scrollTo=WFZLoPamhej1)"
      ],
      "metadata": {
        "id": "dPcZn1lfhN1_"
      },
      "id": "dPcZn1lfhN1_"
    },
    {
      "cell_type": "code",
      "execution_count": null,
      "id": "a85042a9-32e5-4fac-b149-bba220625566",
      "metadata": {
        "cellView": "form",
        "id": "a85042a9-32e5-4fac-b149-bba220625566"
      },
      "outputs": [],
      "source": [
        "\n",
        "\n",
        "#@markdown ## **Load Dataset**\n",
        "#@markdown >Note: If you change your dataset selections above, re-run this cell.\n",
        "#@markdown You only need to load each dataset once, \n",
        "#@markdown You can make new Kinematics and Kinetics selections from the menus\n",
        "#@markdown below without re-running this cell. \n",
        "\n",
        "if w_env.value=='Overland':\n",
        "    speed = w_Ospeed.value[0]\n",
        "\n",
        "if w_env.value=='Treadmill':\n",
        "    speed = w_Tspeed.value\n",
        "\n",
        "filename_norm = 'WBDS' + str(w_subj.value) + 'walk' + w_env.value[0] + speed \n",
        "\n",
        "filepath_norm = Path(datafolder) / (filename_norm + 'ang.txt')\n",
        "ang_norm = pd.read_csv(filepath_norm,sep = '\\t')\n",
        "print('Processed kinematics data loaded.')\n",
        "w_norm_ang = widgets.SelectMultiple(\n",
        "    options=list(ang_norm.columns)[1:],\n",
        "    rows=10)\n",
        "\n",
        "filepath_norm = Path(datafolder) / (filename_norm + 'knt.txt')\n",
        "grf_norm = pd.read_csv(filepath_norm,sep = '\\t')\n",
        "print('Processed ground fource data loaded.')\n",
        "w_norm_grf = widgets.SelectMultiple(\n",
        "    options=list(grf_norm.columns)[1:],\n",
        "    rows=10)\n",
        "print('')\n",
        "print('')\n",
        "print('Select which processed kinematics variables to plot from the following list (ctrl + click to select multiple).')\n",
        "display(w_norm_ang)\n",
        "print('')\n",
        "print('Select which processed ground force variables to plot from the following list (ctrl + click to select multiple).')\n",
        "display(w_norm_grf)\n",
        "\n"
      ]
    },
    {
      "cell_type": "code",
      "execution_count": null,
      "id": "313cc807-5420-43f4-9a64-1a85a0f46f82",
      "metadata": {
        "cellView": "form",
        "id": "313cc807-5420-43f4-9a64-1a85a0f46f82"
      },
      "outputs": [],
      "source": [
        "#@markdown <b>Task:</b> Run this cell to plot your kinematic and kinetic selections.\n",
        "fig = make_subplots(rows=2, cols=1,\n",
        "                    shared_xaxes=True,\n",
        "                    vertical_spacing=0.02)\n",
        "\n",
        "if len(w_norm_ang.value)>0:\n",
        "    for v in list(w_norm_ang.value):\n",
        "        fig.add_trace(go.Scatter(x = ang_norm['Time'], y = ang_norm[v],name=v),row=1,col=1)\n",
        "if len(w_norm_ang.value)==0:\n",
        "    print('Need to select markers to plot')\n",
        "\n",
        "if len(w_norm_grf.value)>0:\n",
        "    for v in list(w_norm_grf.value):\n",
        "        fig.add_trace(go.Scatter(x = grf_norm['Time'], y = grf_norm[v],name=v),row=2,col=1)\n",
        "if len(w_norm_grf.value)==0:\n",
        "    print('Need to select markers to plot')\n",
        "\n",
        "print('Data upload completed at ' + str(datetime.now(timezone(-timedelta(hours=5)))))\n",
        "\n",
        "fig.update_layout(xaxis2_title=\"percent gait cycle\", yaxis_title='degrees',yaxis2_title='N/kg',\n",
        "                  width=800, height=500)"
      ]
    },
    {
      "cell_type": "code",
      "source": [
        "#@markdown <b>Task:</b> Run this cell to plot the ground reaction force vector direction \n",
        "#@markdown >Note: vector direction calculated in 2D (x,y) plane only.\n",
        "\n",
        "fig = go.Figure()\n",
        "rho,phi = cart2pol(grf_norm['RGRFX'],grf_norm['RGRFY'])\n",
        "fig.add_trace(go.Scatter(x = grf_norm['Time'], y = np.degrees(phi),\n",
        "                         name='right',mode='markers'))\n",
        "rho,phi = cart2pol(grf_norm['LGRFX'],grf_norm['LGRFY'])\n",
        "fig.add_trace(go.Scatter(x = grf_norm['Time'], y = np.degrees(phi),\n",
        "                         name='left',mode='markers'))\n",
        "fig.update_layout(xaxis_title=\"percent gait cycle\", yaxis_title='degrees',\n",
        "                  width=800, height=400)\n"
      ],
      "metadata": {
        "cellView": "form",
        "id": "COTaAuNIASQn"
      },
      "id": "COTaAuNIASQn",
      "execution_count": null,
      "outputs": []
    },
    {
      "cell_type": "code",
      "source": [
        "#@markdown <b>Task:</b> Run this cell to make a polar plot \n",
        "#@markdown of the ground reaction force vector direction and magnitude (in 2D x,y plane).\n",
        "fig = go.Figure()\n",
        "fig.add_trace(go.Scatterpolar(\n",
        "        r = rho,\n",
        "        theta = np.degrees(phi),\n",
        "        mode = 'markers',\n",
        "        marker_color='black'))\n",
        "fig.update_layout(width=500, height=500)"
      ],
      "metadata": {
        "cellView": "form",
        "id": "qfYCI_DZATd-"
      },
      "id": "qfYCI_DZATd-",
      "execution_count": null,
      "outputs": []
    },
    {
      "cell_type": "markdown",
      "source": [
        "## 8. Creating a low dimensional representation of walking using PCA\n"
      ],
      "metadata": {
        "id": "hXStrNF_ANpn"
      },
      "id": "hXStrNF_ANpn"
    },
    {
      "cell_type": "code",
      "source": [
        ""
      ],
      "metadata": {
        "id": "XUNZr2m_AU20"
      },
      "id": "XUNZr2m_AU20",
      "execution_count": null,
      "outputs": []
    },
    {
      "cell_type": "markdown",
      "source": [
        "<hr>\n",
        "<br>\n",
        "\n",
        "## NICE WORK!\n",
        "\n",
        "<br>\n"
      ],
      "metadata": {
        "id": "xRO4R-zOt8lw"
      },
      "id": "xRO4R-zOt8lw"
    },
    {
      "cell_type": "markdown",
      "source": [
        "<hr>\n",
        "\n",
        "For users not in this course:\n",
        "This notebook assumes that you have access to the BIOL358 shared class drive in which the dataset from [Fukuchi et al (2018)](https://peerj.com/articles/4640/) has been stored. To change the filepath, or aquire the dataset via direct download (if that is possible), edit the first code cell in Step #2 (\"TASK: RUN this cell to set up the notebook (import packages, etc)\" and change the datafolder path variable. And/or edit the code cells in which the data is imported. "
      ],
      "metadata": {
        "id": "yUhHTXnys68I"
      },
      "id": "yUhHTXnys68I"
    }
  ],
  "metadata": {
    "kernelspec": {
      "display_name": "Python 3 (ipykernel)",
      "language": "python",
      "name": "python3"
    },
    "language_info": {
      "codemirror_mode": {
        "name": "ipython",
        "version": 3
      },
      "file_extension": ".py",
      "mimetype": "text/x-python",
      "name": "python",
      "nbconvert_exporter": "python",
      "pygments_lexer": "ipython3",
      "version": "3.8.12"
    },
    "colab": {
      "name": "Kinematics_WBDSdataset.ipynb",
      "provenance": [],
      "collapsed_sections": [],
      "include_colab_link": true
    }
  },
  "nbformat": 4,
  "nbformat_minor": 5
}