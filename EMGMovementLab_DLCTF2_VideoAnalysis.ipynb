{
  "nbformat": 4,
  "nbformat_minor": 0,
  "metadata": {
    "accelerator": "GPU",
    "colab": {
      "name": "EMGMovementLab_DLCTF2_VideoAnalysis.ipynb",
      "provenance": [],
      "collapsed_sections": [],
      "include_colab_link": true
    },
    "kernelspec": {
      "display_name": "Python 3",
      "language": "python",
      "name": "python3"
    },
    "language_info": {
      "codemirror_mode": {
        "name": "ipython",
        "version": 3
      },
      "file_extension": ".py",
      "mimetype": "text/x-python",
      "name": "python",
      "nbconvert_exporter": "python",
      "pygments_lexer": "ipython3",
      "version": "3.7.10"
    }
  },
  "cells": [
    {
      "cell_type": "markdown",
      "metadata": {
        "id": "view-in-github",
        "colab_type": "text"
      },
      "source": [
        "<a href=\"https://colab.research.google.com/github/neurologic/NeurophysiologyModules/blob/main/EMGMovementLab_DLCTF2_VideoAnalysis.ipynb\" target=\"_parent\"><img src=\"https://colab.research.google.com/assets/colab-badge.svg\" alt=\"Open In Colab\"/></a>"
      ]
    },
    {
      "cell_type": "markdown",
      "metadata": {
        "id": "RK255E7YoEIt"
      },
      "source": [
        "# DeepLabCut 2+ Toolbox | Colab for TensorFlow 2+\n",
        "https://github.com/DeepLabCut/DeepLabCut\n",
        "\n",
        "![alt text](https://images.squarespace-cdn.com/content/v1/57f6d51c9f74566f55ecf271/1607087333173-TG4DRQR5WZ6ETXAJHXEO/ke17ZwdGBToddI8pDm48kKdgWGJOTWy1pqJZDMO95txZw-zPPgdn4jUwVcJE1ZvWQUxwkmyExglNqGp0IvTJZUJFbgE-7XRK3dMEBRBhUpwsA4PS9IFCXiEkiYtvZKsVufHa_vZp4Er3aXh9hA8Hg33vCVX1-CYF3ghyfBsW8js/dlcTF.png?format=1500w)\n",
        "\n",
        "This notebook illustrates how to use colab:\n",
        "- analyze novel videos\n",
        "- filter data\n",
        "- create videos\n",
        "\n",
        "###This notebook assumes you already have a project folder with a trained network and that the project folder has been uploaded to Google Drive.\n",
        "###This notebook assumes you have taken videos to analyze that are uploaded to your Google Drive.\n",
        "\n",
        "NOTE: This notebook demonstrates the necessary steps to use DeepLabCut for your own project.\n",
        "\n",
        "This shows the most simple code to do so, but many of the functions have additional features, so please check out the overview & the protocol paper.\n",
        "\n",
        "Nath\\*, Mathis\\* et al.: Using DeepLabCut for markerless pose estimation during behavior across species. Nature Protocols, 2019.\n",
        "\n",
        "Paper: https://www.nature.com/articles/s41596-019-0176-0\n",
        "\n",
        "Pre-print: https://www.biorxiv.org/content/biorxiv/early/2018/11/24/476531.full.pdf\n"
      ]
    },
    {
      "cell_type": "markdown",
      "metadata": {
        "id": "txoddlM8hLKm"
      },
      "source": [
        "## First, go to \"Runtime\" ->\"change runtime type\"-> and then select \"GPU\" (also choose \"Python 3\" if prompted)\n"
      ]
    },
    {
      "cell_type": "code",
      "metadata": {
        "id": "q23BzhA6CXxu",
        "cellView": "form"
      },
      "source": [
        "#@title Hit the play button to the left to install DeepLabCut. A LOT of text will appear... and keep appearing. Be patient and wait until it is completely finished.\n",
        "#Install the branch with tf2.x support:\n",
        "!pip install git+https://github.com/DeepLabCut/DeepLabCut-core.git@tf2.2alpha\n",
        "!pip install tf_slim"
      ],
      "execution_count": null,
      "outputs": []
    },
    {
      "cell_type": "markdown",
      "metadata": {
        "id": "25wSj6TlVclR"
      },
      "source": [
        "**(Be sure to click \"RESTART RUNTIME\" is it is displayed above above before moving on !)**"
      ]
    },
    {
      "cell_type": "code",
      "metadata": {
        "id": "Y0PIwrPCgjkb",
        "cellView": "form"
      },
      "source": [
        "#@title import software\n",
        "import deeplabcutcore as deeplabcut\n",
        "\n",
        "from datetime import datetime\n",
        "import pandas as pd\n",
        "import numpy as np\n",
        "\n",
        "#GUIs don't work on the cloud, so we supress them:\n",
        "import os\n",
        "os.environ[\"DLClight\"]=\"True\"\n",
        "\n",
        "# stifle tensorflow warnings, like we get it already.\n",
        "os.environ['TF_CPP_MIN_LOG_LEVEL'] = '2'\n",
        "\n",
        "# import deeplabcutcore as deeplabcut\n",
        "# import tensorflow\n",
        "# tensorflow.__version__"
      ],
      "execution_count": null,
      "outputs": []
    },
    {
      "cell_type": "code",
      "metadata": {
        "cellView": "form",
        "id": "IpVyYggK3a6A"
      },
      "source": [
        "#@title link to your google drive\n",
        "from google.colab import drive\n",
        "drive.mount('/content/drive')"
      ],
      "execution_count": null,
      "outputs": []
    },
    {
      "cell_type": "markdown",
      "metadata": {
        "id": "Frnj1RVDyEqs"
      },
      "source": [
        "To edit any of the .yaml configuration files in the project, you can simply double click on the file on the left, and edit within colab.\n"
      ]
    },
    {
      "cell_type": "code",
      "metadata": {
        "id": "vhENAlQnFENJ"
      },
      "source": [
        "# PLEASE EDIT THE VIDEOFILE_PATH:\n",
        "# videofile_path = ['path to your video file'] #Enter the list of videos or folder to analyze.\n",
        "videofile_path = ['/content/drive/Shareddrives/BIOL247/ClassMovementData_20211122/AF_video2021-11-22T14_20_51.avi']\n",
        "\n",
        "\n",
        "### YOU SHOULD NOT NEED TO EDIT THE VIDEOTYPE OR PATH_CONFIG_FILE:\n",
        "#Setup your project variables:\n",
        "VideoType = '.avi'  # everyone's video type should be the same, since we used the same program)\n",
        "\n",
        "# path_config_file = 'path to the config.yaml file of the DLC project that you downloaded'\n",
        "path_config_file = '/content/drive/Shareddrives/BIOL247/EMG_Tracking_ZooInitialized-lab/config.yaml'"
      ],
      "execution_count": null,
      "outputs": []
    },
    {
      "cell_type": "markdown",
      "metadata": {
        "id": "OVFLSKKfoEJk"
      },
      "source": [
        "## Start Analyzing videos: \n",
        "This function analyzes the new video. The user can choose the best model from the evaluation results and specify the correct snapshot index for the variable **snapshotindex** in the **config.yaml** file. Otherwise, by default the most recent snapshot is used to analyse the video.\n",
        "\n",
        "The results are stored in hd5 file in the same directory where the video resides. "
      ]
    },
    {
      "cell_type": "code",
      "metadata": {
        "id": "Y_LZiS_0oEJl"
      },
      "source": [
        "deeplabcut.analyze_videos(path_config_file, videofile_path, videotype=VideoType)"
      ],
      "execution_count": null,
      "outputs": []
    },
    {
      "cell_type": "markdown",
      "metadata": {
        "id": "LrkIDiciSWH1"
      },
      "source": [
        "You can also now filter your data to smooth any small jitters:"
      ]
    },
    {
      "cell_type": "code",
      "metadata": {
        "id": "X8SmVAIkSbLp"
      },
      "source": [
        "deeplabcut.filterpredictions(path_config_file, videofile_path, videotype=VideoType)"
      ],
      "execution_count": null,
      "outputs": []
    },
    {
      "cell_type": "markdown",
      "metadata": {
        "id": "PZ-Yc18NgPcx"
      },
      "source": [
        "You can look at the table that has the x and y position for every tracked body part in every frame\n",
        "> The results are stored in hd5 file in the same directory where the video resides. "
      ]
    },
    {
      "cell_type": "markdown",
      "metadata": {
        "id": "ZcRczkwAcIwF"
      },
      "source": [
        ""
      ]
    },
    {
      "cell_type": "code",
      "metadata": {
        "id": "dn2ZfdKIgPcy"
      },
      "source": [
        "path_to_h5 = 'insert full path to _filtered.h5 file including the file name' # the file name will end in '_filtered.h5'"
      ],
      "execution_count": null,
      "outputs": []
    },
    {
      "cell_type": "code",
      "metadata": {
        "id": "t-VITz80Dcck",
        "cellView": "form"
      },
      "source": [
        "#@title import results and display as a table\n",
        "df = pd.read_hdf(path_to_h5)\n",
        "df = df[df.keys()[0][0]]\n",
        "display(df)"
      ],
      "execution_count": null,
      "outputs": []
    },
    {
      "cell_type": "markdown",
      "metadata": {
        "id": "-ur9Cjq2EUgD"
      },
      "source": [
        "## Define the skeleton for your movement."
      ]
    },
    {
      "cell_type": "markdown",
      "metadata": {
        "id": "NtA-P47UgPcz"
      },
      "source": [
        "Define a skeleton based on the \"bones\" that you want to include in your analysis </br>\n",
        "*Full list of possible body parts:*\n",
        "- ankle1\n",
        "- knee1\n",
        "- hip1\n",
        "- hip2\n",
        "- knee2\n",
        "- ankle2\n",
        "- wrist1\n",
        "- elbow1\n",
        "- shoulder1\n",
        "- shoulder2\n",
        "- elbow2\n",
        "- wrist2\n",
        "- chin\n",
        "- forehead\n",
        "\n",
        "The format of the skeleton should be as follows...\n",
        "<code>skeleton = [\n",
        "     ['body part','body part'],\n",
        "     ['body part','body part'] \n",
        " ]</code>\n",
        " Add more entries as needed"
      ]
    },
    {
      "cell_type": "code",
      "metadata": {
        "id": "BHcGaG8rgPcz"
      },
      "source": [
        "skeleton = [\n",
        "    ['wrist1','elbow1'],\n",
        "    ['elbow1','shoulder1'],\n",
        "    ['wrist2','elbow2'],\n",
        "    ['elbow2','shoulder2'],\n",
        "    ['shoulder1','shoulder2'] # if add more entries after this, terminate this line with a comma\n",
        "    # add more entries as needed\n",
        "]"
      ],
      "execution_count": null,
      "outputs": []
    },
    {
      "cell_type": "markdown",
      "metadata": {
        "id": "9Rh6zbzzqH6V"
      },
      "source": [
        "## Run the code below to edit the config file based on your skeleton. You can make any other edits to the parameters listed that you want as well. "
      ]
    },
    {
      "cell_type": "code",
      "metadata": {
        "id": "LqQ2q9NSR5H6"
      },
      "source": [
        "# edit the configuration file to make these changes\n",
        "config_path = path_config_file[0]\n",
        "edits = {'dotsize': 5,\n",
        "          'colormap': 'jet',\n",
        "          'pcutoff': 0.1,\n",
        "          'skeleton': skeleton,\n",
        "          'skeleton_color': 'red'}\n",
        "deeplabcut.auxiliaryfunctions.edit_config(path_config_file, edits);"
      ],
      "execution_count": null,
      "outputs": []
    },
    {
      "cell_type": "markdown",
      "metadata": {
        "id": "pCrUvQIvoEKD"
      },
      "source": [
        "## Create labeled video:\n",
        "This funtion is for visualization purpose and can be used to create a video in .mp4 format with labels predicted by the network. This video is saved in the same directory where the original video resides. "
      ]
    },
    {
      "cell_type": "code",
      "metadata": {
        "cellView": "form",
        "id": "6aDF7Q7KoEKE"
      },
      "source": [
        "#@title Create a labeled video  \n",
        "#@markdown This funtion is for visualization purpose and can be used to create a video in .mp4 format with labels predicted by the network. This video is saved in the same directory where the original video resides.\n",
        "\n",
        "deeplabcut.create_labeled_video(path_config_file, videofile_path, videotype=VideoType, filtered=True, draw_skeleton=True,trailpoints=5)"
      ],
      "execution_count": null,
      "outputs": []
    },
    {
      "cell_type": "code",
      "metadata": {
        "cellView": "form",
        "id": "QMATkk97gPc0"
      },
      "source": [
        "#@title Analyze the skeleton to get your \"bones\"\n",
        "deeplabcut.analyzeskeleton(path_config_file, videofile_path, videotype=VideoType, save_as_csv=True)"
      ],
      "execution_count": null,
      "outputs": []
    },
    {
      "cell_type": "markdown",
      "metadata": {
        "id": "GPpwbZSbgPc0"
      },
      "source": [
        "The results are stored in another .h5 file"
      ]
    },
    {
      "cell_type": "code",
      "metadata": {
        "id": "TxU-CLXeFyb-"
      },
      "source": [
        "path_to_h5 = 'insert the full path to the _skeleton.h5 file including the file name' # the file name will end in '_skeleton.h5'"
      ],
      "execution_count": null,
      "outputs": []
    },
    {
      "cell_type": "code",
      "metadata": {
        "cellView": "form",
        "colab": {
          "background_save": true
        },
        "id": "C4LMn47igPc0"
      },
      "source": [
        "#@title display results\n",
        "df = pd.read_hdf(path_to_h5)\n",
        "display(df)"
      ],
      "execution_count": null,
      "outputs": []
    }
  ]
}