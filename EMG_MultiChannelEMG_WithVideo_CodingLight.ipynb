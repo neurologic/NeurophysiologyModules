{
  "cells": [
    {
      "cell_type": "markdown",
      "metadata": {
        "id": "view-in-github",
        "colab_type": "text"
      },
      "source": [
        "<a href=\"https://colab.research.google.com/github/neurologic/NeurophysiologyModules/blob/main/EMG_MultiChannelEMG_WithVideo_CodingLight.ipynb\" target=\"_parent\"><img src=\"https://colab.research.google.com/assets/colab-badge.svg\" alt=\"Open In Colab\"/></a>"
      ]
    },
    {
      "cell_type": "markdown",
      "source": [
        "# **TODO** \n",
        "- Make this into a \"coding light\" version so that it acts more like an app to flexibly interact with analysis of the data... but without requiring looking at all the code. \n",
        "- Clean up the kinematics analysis to remove absolute X and Y positions from the analysis (or at least have the option); Include a discussion to help students think about why this would be useful in understanding neural mechanisms or in quantifying and categorizing movements in low-dimensional space. ie. what are the impacts of this choice and why would you want to do it."
      ],
      "metadata": {
        "id": "lX5k6ys5NMRW"
      },
      "id": "lX5k6ys5NMRW"
    },
    {
      "cell_type": "markdown",
      "id": "850eb426-07d8-4407-82f1-f163a2c960b6",
      "metadata": {
        "id": "850eb426-07d8-4407-82f1-f163a2c960b6"
      },
      "source": [
        "<a id=\"contents\"></a>\n",
        "Whenever you see a link to [*return to table of contents*](#contents), you can return to this table of contents.\n",
        "\n",
        "# BIG DATA\n",
        "You have done a lot of work this semester to hone computational skills. This is one of the labs in which the achievement of that learning goal stands out. You can now describe high-dimensional complex data through the lens of contemporary computational tools at the cutting edge of neuroscience research. \n",
        "\n",
        "## Laboratory Investigation Steps\n",
        "\n",
        "1. [Set up our coding environment](#setup)\n",
        "2. [Set up file path and file name defintions](#filepaths)\n",
        "\n",
        "**Data from EMG**. *Steps 3-10 are an analysis of the EMG activity*\n",
        "\n",
        "3. [Import data for EMG](#importemg)\n",
        "4. [Pick start and stop times for each movement](#definemovements)\n",
        "5. [Process raw EMG signal into amplitude envelope](#emgprocess)\n",
        "6. [Calculate pairwise correlations for all EMG signals (amplitude envelope)](#emgcorr)\n",
        "7. [Dimensionality Reduction on EMG signal](#emgpca)\n",
        "8. [Calculate total variance explained](#emgpca_var)\n",
        "9. [Plot PCs that describe the movement](#emgpca_plot)\n",
        "10. [Plot the EMG activity in PCA space](#emgpcaspace)\n",
        "\n",
        "**Data from video**. *Steps 11-17 are an analysis of the movement itself*\n",
        "\n",
        "11. [Import the tracking data of body parts and bones from the video](#movement)\n",
        "12. [Calculate movement kinematics](#kinematics)\n",
        "13. [Dimensionality Reduction on the movement](#movementpca)\n",
        "14. [Calculate total variance explained](#movementpca_var)\n",
        "15. [Plot PCs that describe the movement](#movementpca_plot)\n",
        "16. [Look at the movement in 3D PCA space](#movementpcaspace)\n",
        "17. [Animate the movement in 2D PCA space](#movementpcaspace_animated)\n",
        "\n",
        "**Write-up (Take home assignment)** \n",
        "18. [Take home write up questions and guidelines.](#takehome)\n",
        "\n",
        "### Throughout the notebook, you will plot raw data and results of analysis.\n",
        "- You can interact with the plots by zooming in and panning. <br>\n",
        "- You can make the plot bigger or smaller by dragging its bottom right corner (gray triangle). Note that when it gets smaller the axis labels might disappear.\n",
        "- You can save the current plot view at any time by hitting the \"save\" icon - it will save to your Downloads folder. <br>\n"
      ]
    },
    {
      "cell_type": "markdown",
      "id": "e8ae9b6e-dfb1-4ff1-a7ca-e11146ced2b0",
      "metadata": {
        "id": "e8ae9b6e-dfb1-4ff1-a7ca-e11146ced2b0"
      },
      "source": [
        "<a id=\"setup\"></a>\n",
        "## Part I. Initialize notebook.\n",
        "[*return to table of contents*](#contents)<br>\n",
        "As you now know, Python's Jupyter Lab notebooks are a way to combine executable code, code outputs, and text into one connected file. They run using a <b>'kernel'</b>, which is the thing that executes your code. It is what connects the notebook (as you see it) with the part of your computer, or the DataHub computers, that runs code. When you 'run'/'execute' code cells, the kernel does what the code tells it to, for example: importing software packages, importing data, plotting data, calculating correlation between signals, etc. Instructions to 'run' code cells are contained in green boxes within these 'markdown' (text) cells. Make sure to execute the cells in order throughout the notebook without skipping over cells. \n",
        "\n",
        "<div class=\"alert alert-success\"><b>Task:</b> Run the cell below to import necessary packages and set up the coding environment.</div>"
      ]
    },
    {
      "cell_type": "code",
      "execution_count": null,
      "id": "63fd8fa5-0914-4d1a-87bd-9d20927aedca",
      "metadata": {
        "id": "63fd8fa5-0914-4d1a-87bd-9d20927aedca"
      },
      "outputs": [],
      "source": [
        "# No need to edit anything in this code cell\n",
        "#################################\n",
        "\n",
        "import matplotlib.pyplot as plt\n",
        "import numpy as np\n",
        "import pandas as pd\n",
        "from pathlib import Path\n",
        "import matplotlib.pyplot as plt\n",
        "import plotly.express as px\n",
        "\n",
        "import csv\n",
        "from scipy.signal import hilbert,medfilt,resample\n",
        "from sklearn.decomposition import PCA\n",
        "import scipy\n",
        "import seaborn as sns\n",
        "import datetime\n",
        "\n",
        "# https://towardsdatascience.com/how-to-produce-interactive-matplotlib-plots-in-jupyter-environment-1e4329d71651\n",
        "\n",
        "fs = 100\n",
        "fs_vid = 30\n",
        "\n",
        "def get_bodypart_speed(df_vid,d,new_name):\n",
        "    dd = np.diff(df_vid[d].values)\n",
        "    fs_ = 1/np.mean(np.diff(df_vid['time']))\n",
        "    speed = np.concatenate([[0],dd/(1/fs_)])\n",
        "    filtert = int(0.15*fs_)\n",
        "    speed = scipy.ndimage.gaussian_filter(speed,filtert)\n",
        "    df_vid[new_name] = (speed - np.mean(speed))/np.std(speed)\n",
        "    return df_vid\n",
        "\n",
        "def get_bodypart_speed_absolute(df_vid,x,y,new_name):\n",
        "    dx = np.diff(df_vid[x].values)\n",
        "    dy = np.diff(df_vid[y].values)\n",
        "    dpos = np.sqrt(dx**2 + dy**2)\n",
        "    fs_ = 1/np.mean(np.diff(df_vid['time']))\n",
        "    speed = np.concatenate([[0],dpos/(1/fs_)])\n",
        "    filtert = int(0.15*fs_)\n",
        "    speed = scipy.ndimage.gaussian_filter(speed,filtert)\n",
        "    df_vid[new_name] = (speed - np.mean(speed))/np.std(speed)\n",
        "    return df_vid\n",
        "\n",
        "def get_bone_speed(df_vid,bone,new_name):\n",
        "    dd = np.diff(df_vid[bone].values)\n",
        "    fs_ = 1/np.mean(np.diff(df_vid['time']))\n",
        "    speed = np.concatenate([[0],dd/(1/fs_)])\n",
        "    filtert = int(0.15*fs_)\n",
        "    speed = scipy.ndimage.gaussian_filter(speed,filtert)\n",
        "    df_vid[new_name] = (speed - np.mean(speed))/np.std(speed)\n",
        "    return df_vid"
      ]
    },
    {
      "cell_type": "markdown",
      "id": "7db5fd4d-fe22-4e61-ac4c-66858c5a47b5",
      "metadata": {
        "id": "7db5fd4d-fe22-4e61-ac4c-66858c5a47b5"
      },
      "source": [
        "<a id=\"filepaths\"></a>\n",
        "### Edit the code cell below with the appropriate information, then play/execute the cell\n",
        "[*return to table of contents*](#contents)<br>\n",
        "> all file names and paths need to be in quotations, ***if you are on a windows operating system computer, you need an \"r\" before the first quote of a filepath***\n",
        "- **folderpath** is the path to your muscle data (.csv file) that has simultaneous recording of two muscles as well as the tracking data (.h5 files) from the video analysis. \n",
        "- **emg_file** = the \".csv\" data file that has simultaneous recording of two muscles.\n",
        "- **joints_file** = the \"_filtered.h5\" file from video tracking analysis\n",
        "- **bones_file** the \"_skeleton.h5\" file from video tracking analysis\n",
        "- **videotimestamps_file** = the \".csv\" file that has timestamps from the video camera input during recording\n",
        "- **channels** = which arduino channels provided your amplified muscle data to bonsai.\n",
        "- **muscles** = which muscle was recorded on each emg channel.\n",
        "\n",
        "<div class=\"alert alert-success\"><b>Task:</b> Running the cell below (after entering all of the filepaths and filenames requested) will tell the computer where to look for your data.</div>"
      ]
    },
    {
      "cell_type": "code",
      "execution_count": null,
      "id": "a6c3147c-62f2-4ad0-b4a1-a50b280283c0",
      "metadata": {
        "id": "a6c3147c-62f2-4ad0-b4a1-a50b280283c0"
      },
      "outputs": [],
      "source": [
        "folderpath = '/Volumes/Untitled/BIOL247_Data/20211122_ClassSharedHighDimensional/'\n",
        "\n",
        "emg_file = \"KP_EMG_zip2021-11-22T10_50_38.csv\"\n",
        "joints_file = 'KP_video2021-11-22T10_50_39DLC_resnet101_EMG_Tracking_ZooInitializedNov3shuffle1_58500_filtered.h5'\n",
        "bones_file = 'KP_video2021-11-22T10_50_39DLC_resnet101_EMG_Tracking_ZooInitializedNov3shuffle1_58500_skeleton.h5'\n",
        "videotimestamps_file = \"KP_video_timestamps2021-11-22T10_50_38.csv\"\n",
        "\n",
        "channels = ['0','1','2','3','4','5'] #channels recorded\n",
        "\n",
        "muscles = ['tri_L','bi_L','tri_R','bi_R','neck_L','neck_R'] #muscle recorded with each channel\n",
        "\n",
        "\n",
        "# No need to edit anything below this line\n",
        "#################################\n",
        "\n",
        "emg_path = Path(folderpath) / emg_file\n",
        "joints_path = Path(folderpath) / joints_file\n",
        "bones_path = Path(folderpath) / bones_file\n",
        "video_path = Path(folderpath) / videotimestamps_file\n",
        "\n",
        "print('completed at ' + str(datetime.datetime.now()))"
      ]
    },
    {
      "cell_type": "markdown",
      "id": "53da42e9-918d-488a-8c14-4116a8ad9fb2",
      "metadata": {
        "id": "53da42e9-918d-488a-8c14-4116a8ad9fb2"
      },
      "source": [
        "<a id=\"importemg\"></a>\n",
        "## Part II. Import raw EMG data.\n",
        "[*return to table of contents*](#contents)<br>\n",
        "<div class=\"alert alert-success\"><b>Task:</b> Running the cell below actually imports the raw EMG data and formats it in a way that can be plotted.</div>"
      ]
    },
    {
      "cell_type": "code",
      "execution_count": null,
      "id": "7600b10d-bba8-4831-bf59-520cb56d5362",
      "metadata": {
        "id": "7600b10d-bba8-4831-bf59-520cb56d5362"
      },
      "outputs": [],
      "source": [
        "#%% import data\n",
        "df_analog_ = pd.read_csv(emg_path.expanduser().resolve(), sep=',')\n",
        "\n",
        "# rename headers as input channels\n",
        "for i,h in enumerate(list(df_analog_.columns)[:-1]):\n",
        "    df_analog_.rename(columns={h : str(i)},inplace=True)\n",
        "    \n",
        "# the last column is timestamps    \n",
        "df_analog_.rename(columns={list(df_analog_.columns)[-1] : 'time'},inplace=True)\n",
        "\n",
        "# reformat 'Time' to start at t0 = 0 and be units of seconds\n",
        "# xtime = (df_analog['Time']-df_analog['Time'].iloc[0])/1000\n",
        "# reformat 'Time' to be units of seconds\n",
        "xtime = (df_analog_['time'])/1000\n",
        "df_analog_['time'] = xtime\n",
        "x = np.linspace(df_analog_['time'].iloc[0],df_analog_['time'].iloc[-1],\n",
        "                int((df_analog_['time'].iloc[-1]-df_analog_['time'].iloc[0])*fs))\n",
        "df_mat = [df_analog_.loc[np.max(df_analog_[df_analog_['time']<=x_].index)].values for x_ in x]\n",
        "df_analog = pd.DataFrame(df_mat,columns = df_analog_.columns)\n",
        "df_analog = df_analog.loc[:,channels]\n",
        "df_analog['time']=x-x[0]"
      ]
    },
    {
      "cell_type": "markdown",
      "id": "0c80eb80-1d17-47bb-81a8-023bf0c2476d",
      "metadata": {
        "id": "0c80eb80-1d17-47bb-81a8-023bf0c2476d"
      },
      "source": [
        "### Plot the raw EMG signal from each muscle\n",
        "[*return to table of contents*](#contents)<br>\n",
        "> The amplitude units are in Volts, but the absolute amplitude of the signals are not important for the analyses of this data that we will do for this lab. In the next step, you will be obtaining the \"amplitude envelope\" of this raw signal, which discards absolute Voltage information anyway. <br>\n",
        "<br>\n",
        "> The \"baseline\" of each channels is offset from each other so that they are not visually overlaid - the baseline voltage of the recording on each channel was actually zero. \n",
        "\n",
        "<div class=\"alert alert-success\"><b>Task:</b> Running the cell below plots the raw EMG signal across time from each channel recorded.</div>"
      ]
    },
    {
      "cell_type": "code",
      "execution_count": null,
      "id": "8290362d-2e74-4fd3-acd3-e4ef54467a38",
      "metadata": {
        "id": "8290362d-2e74-4fd3-acd3-e4ef54467a38"
      },
      "outputs": [],
      "source": [
        "# No need to edit this code cell\n",
        "################################\n",
        "plotoffset = 100\n",
        "hfig,axs = plt.subplots(1)\n",
        "axs.set_xlabel('seconds')\n",
        "axs.set_ylabel('amplitude')\n",
        "axs.set_yticklabels([])\n",
        "axs.plot(df_analog['time'],df_analog[channels[0]].values,linewidth = 1,label=muscles[0])\n",
        "axs.plot(df_analog['time'],df_analog[channels[1]].values + plotoffset,linewidth = 1,label=muscles[1])\n",
        "axs.plot(df_analog['time'],df_analog[channels[2]].values + plotoffset*2,linewidth = 1,label=muscles[2])\n",
        "axs.plot(df_analog['time'],df_analog[channels[3]].values + plotoffset*3,linewidth = 1,label=muscles[3])\n",
        "axs.plot(df_analog['time'],df_analog[channels[4]].values + plotoffset*4,linewidth = 1,label=muscles[4])\n",
        "axs.plot(df_analog['time'],df_analog[channels[5]].values + plotoffset*5,linewidth = 1,label=muscles[5])\n",
        "\n",
        "plt.legend();"
      ]
    },
    {
      "cell_type": "markdown",
      "id": "a0fe1688-8482-4072-9f38-0436e3cbcf42",
      "metadata": {
        "id": "a0fe1688-8482-4072-9f38-0436e3cbcf42"
      },
      "source": [
        "<a id=\"definemovements\"></a>\n",
        "### Look at the raw data that you just plotted. \n",
        "[*return to table of contents*](#contents)<br>\n",
        "#### Pick a time window to analyze that has decently stereotyped patterned activity for each movement and enter it in the code cell below\n",
        "- **startA** = the time (seconds) in your recording when nicely stereotyped patterned movement A became clear.\n",
        "- **stopA** = the time in your recording when nicely stereotyped patterned movement A stopped being clear.\n",
        "- **startB** = the time in your recording when nicely stereotyped patterned movement B became clear.\n",
        "- **stopB** = the time in your recording when nicely stereotyped patterned movement B stopped being clear.\n",
        "\n",
        "You can come back and edit these at any time if you feel like changing this range would clean up your analysis more. All of the rest of the plots in the notebook will reflect these regions that you choose. \n",
        "\n",
        "<div class=\"alert alert-success\"><b>Task:</b> Edit the code cell below to define the two regions of your recording used for analysis. Then run the cell.</div>"
      ]
    },
    {
      "cell_type": "code",
      "execution_count": null,
      "id": "ccb7f4d2-384b-4161-8c57-9d37750c91bc",
      "metadata": {
        "id": "ccb7f4d2-384b-4161-8c57-9d37750c91bc"
      },
      "outputs": [],
      "source": [
        "startA = 24\n",
        "stopA = 39\n",
        "\n",
        "startB = 58\n",
        "stopB = 72\n",
        "\n",
        "# No need to edit below this line\n",
        "################################\n",
        "print('all set - analysis domain defined')"
      ]
    },
    {
      "cell_type": "markdown",
      "id": "0d1f1545-2f25-4bfe-be34-1dfb7ca3444e",
      "metadata": {
        "id": "0d1f1545-2f25-4bfe-be34-1dfb7ca3444e"
      },
      "source": [
        "<a id=\"emgprocess\"></a>\n",
        "### Process the raw EMG signal into a rectified, smoothed \"amplitude envelope\"\n",
        "[*return to table of contents*](#contents)<br>\n",
        "> This is a type of *signal processing*. You have already encountered this type of signal processing when you analyzed the extracellular cockroach data that you collected earlier this semester. Remind yourself of what this does to the raw signal that you recorded (I explained it thoroughly in the video I made to accompany that analysis). The result here is a processed signal that we will refer to as the *amplitude envelope* of the EMG activity. \n",
        "\n",
        "<div class=\"alert alert-success\"><b>Task:</b> Run the cell below to process the raw EMG signal and get its \"amplitude envelope\". You will also get a plot of the EMG amplitude envelope. You do not need to edit anything in the code cell.</div>"
      ]
    },
    {
      "cell_type": "code",
      "execution_count": null,
      "id": "04522a80-6411-4c81-b24e-358987ac64dc",
      "metadata": {
        "id": "04522a80-6411-4c81-b24e-358987ac64dc"
      },
      "outputs": [],
      "source": [
        "# No need to edit this code cell\n",
        "################################\n",
        "\n",
        "# Use rectfication and gaussian smoothing on EMG to get mean-centered rate\n",
        "df_rate = pd.DataFrame({})\n",
        "filtert = int(0.1*fs)\n",
        "for h in list(df_analog.columns)[:-1]: # rename headers as input channels\n",
        "    y = df_analog[h] - np.mean(df_analog[h])\n",
        "    y = np.abs(y) #takes the absolute value of \n",
        "    y = scipy.ndimage.gaussian_filter(y,filtert)\n",
        "    df_rate[h] = y\n",
        "# df_rate = df_rate.subtract(df_rate.mean())\n",
        "df_rate =(df_rate - df_rate.mean()) / df_rate.std()\n",
        "df_rate['time']=df_analog['time']\n",
        "df_rate = df_rate[((df_rate['time']>startA) & (df_rate['time']<stopA) | (df_rate['time']>startB) & (df_rate['time']<stopB))]\n",
        "\n",
        "hfig,ax = plt.subplots(1)\n",
        "ax.set_xlabel('seconds')\n",
        "ax.set_ylabel('amplitude')\n",
        "ax.set_yticklabels([])\n",
        "ax.plot(df_rate['time'],df_rate[channels[0]].values,linewidth = 2,label=muscles[0],alpha = 0.75)\n",
        "ax.plot(df_rate['time'],df_rate[channels[1]].values,linewidth = 2,label=muscles[1],alpha = 0.75)\n",
        "ax.plot(df_rate['time'],df_rate[channels[2]].values,linewidth = 2,label=muscles[2],alpha = 0.75)\n",
        "ax.plot(df_rate['time'],df_rate[channels[3]].values,linewidth = 2,label=muscles[3],alpha = 0.75)\n",
        "ax.plot(df_rate['time'],df_rate[channels[4]].values,linewidth = 2,label=muscles[4],alpha = 0.75)\n",
        "ax.plot(df_rate['time'],df_rate[channels[5]].values,linewidth = 2,label=muscles[5],alpha = 0.75)\n",
        "\n",
        "plt.legend();"
      ]
    },
    {
      "cell_type": "markdown",
      "id": "84f7e282-b954-42bd-8ea2-b5edb134ec99",
      "metadata": {
        "id": "84f7e282-b954-42bd-8ea2-b5edb134ec99"
      },
      "source": [
        "<a id=\"emgcorr\"></a>\n",
        "### Muscle-based description of movement in high-dimensional space.\n",
        "[*return to table of contents*](#contents)<br>\n",
        "Think about how you would qualitatively describe the main difference between your movements based on the patterns of muscle acitivity observed for each. How do you describe the movement pattern? What are some of the prominent features that are different? What is similar? \n",
        "<div class=\"alert alert-success\"><b>Task:</b> Run the cell below to get a *correlation matrix* table of the mathematical correlation values between EMG signals.</div> "
      ]
    },
    {
      "cell_type": "code",
      "execution_count": null,
      "id": "0387e96e-32ec-461c-a242-f7070d9356aa",
      "metadata": {
        "id": "0387e96e-32ec-461c-a242-f7070d9356aa"
      },
      "outputs": [],
      "source": [
        "# No need to edit below this line\n",
        "################################\n",
        "print('correlation matrix movement A:')\n",
        "inwin = ((df_rate['time']>startA) & (df_rate['time']<stopA))\n",
        "p_corr = df_rate[inwin].drop('time',axis=1).corr()\n",
        "# hfig, ax = plt.subplots(1)\n",
        "# sns.heatmap(p_corr, annot=True)\n",
        "display(p_corr)\n",
        "\n",
        "print('correlation matrix movement B:')\n",
        "inwin = ((df_rate['time']>startB) & (df_rate['time']<stopB))\n",
        "p_corr = df_rate[inwin].drop('time',axis=1).corr()\n",
        "# hfig, ax = plt.subplots(1)\n",
        "# sns.heatmap(p_corr, annot=True)\n",
        "display(p_corr)"
      ]
    },
    {
      "cell_type": "markdown",
      "id": "648c4819-c8c9-49aa-83cb-d07c7bf5bda1",
      "metadata": {
        "id": "648c4819-c8c9-49aa-83cb-d07c7bf5bda1"
      },
      "source": [
        "<a id=\"emgpca\"></a>\n",
        "### Dimensionality Reduction\n",
        "[*return to table of contents*](#contents)<br>\n",
        "Again... ***THIS IS A LOT TO KEEP TRACK OF!*** <br>\n",
        "And it can feel overwhelming to describe accurately without it being confusing with too much detail.\n",
        "In this section, we will implement \"*Dimensionality Reduction*\" - a technique commonly used in neuroscience to make sense of \"BIG DATA.\"\n",
        "\n",
        "<div class=\"alert alert-success\"><b>Task:</b> Run the cell below to perform a \"Principal Components Analysis\" (PCA) on the ALL of the EMG activity that you recorded (uses the amplitude envelopes). You will get a scatter plot showing how much of the variabce in the data is explained by each principle component.</div>"
      ]
    },
    {
      "cell_type": "code",
      "execution_count": null,
      "id": "769b19fa-47b3-42ff-81a9-1ca830b1762f",
      "metadata": {
        "id": "769b19fa-47b3-42ff-81a9-1ca830b1762f"
      },
      "outputs": [],
      "source": [
        "# No need to edit this code cell \n",
        "################################\n",
        "df = df_rate.drop('time',axis=1)\n",
        "df =(df - df.mean()) / df.std()\n",
        "n_dim = 6\n",
        "n_components=np.min([n_dim,df.shape[1]]) # if try to take more components than have channels, use amount of channels\n",
        "print('You quantified your movement into ' + str(len(df.columns)) + ' positional and kinematic variables')\n",
        "pca = PCA(n_components=n_components)\n",
        "pca.fit(df)\n",
        "df_pca = pd.DataFrame(pca.transform(df), columns=['PC%i' % i for i in range(n_components)], index=df.index)\n",
        "print('Your movement has now been transformed into ' + str(n_components) + ' principle components.')\n",
        "\n",
        "# No need to edit this code cell\n",
        "################################\n",
        "hfig,ax = plt.subplots(1)\n",
        "ax.scatter(df_pca.columns,pca.explained_variance_ratio_,color='black',s=100)\n",
        "ax.set_ylabel('Explained Variance')\n",
        "ax.set_xlabel('Principal Components')\n",
        "ax.set_ylim(-0.05,1.05)"
      ]
    },
    {
      "cell_type": "markdown",
      "id": "bb8eff5a-48ad-4929-b393-a38367e36791",
      "metadata": {
        "id": "bb8eff5a-48ad-4929-b393-a38367e36791"
      },
      "source": [
        "<a id=\"emgpca_var\"></a>\n",
        "### Explained variance\n",
        "[*return to table of contents*](#contents)<br>\n",
        "Transform the plot above into a 'cumulative variance' plot by using the cell below. For each PC variable listed below, make it equal to the total amount of variance explained at each PC (for example, the total variance explained by PC2 would be the total variance explained by PC0 plus the total variance explained by PC1 plus the total variance explained by PC2). You can get the variance explained by each PC by hovering over the points in the scatter plot above.\n",
        "\n",
        "<div class=\"alert alert-success\"><b>Task:</b> Edit and run the cell below to make a scatter plot of the cummulative variance explained. A horizontal line will mark the point at which 80% of the total variance is explained by the PCs.</div>"
      ]
    },
    {
      "cell_type": "code",
      "execution_count": null,
      "id": "e889e9b2-ef7b-4c97-8552-38cf5bbf6669",
      "metadata": {
        "id": "e889e9b2-ef7b-4c97-8552-38cf5bbf6669"
      },
      "outputs": [],
      "source": [
        "PC0var = \n",
        "PC1var = \n",
        "PC2var = \n",
        "PC3var = \n",
        "PC4var = \n",
        "PC5var = \n",
        "\n",
        "# No need to edit below this line\n",
        "################################\n",
        "hfig,ax = plt.subplots(1)\n",
        "ax.scatter(df_pca.columns,[PC0var,PC1var,PC2var,PC3var,PC4var,PC5var],color='black',s=100)\n",
        "ax.hlines(0.8,0,6)\n",
        "ax.set_ylabel('Total Explained Variance')\n",
        "ax.set_xlabel('Principal Components')\n",
        "ax.set_ylim(-0.05,1.05)"
      ]
    },
    {
      "cell_type": "markdown",
      "id": "1db3914f-81f1-473a-9c86-99468fe153de",
      "metadata": {
        "id": "1db3914f-81f1-473a-9c86-99468fe153de",
        "tags": []
      },
      "source": [
        "<a id=\"emgpca_plot\"></a>\n",
        "### EMG activity described in PC space.\n",
        "[*return to table of contents*](#contents)<br>\n",
        "### PC0 is the first principal component of the movement, PC1 is the second, etc.\n",
        "> Importantly, these principal components are *independent* of each other. They are *orthogonal* dimensions of the EMG activity.\n",
        "Edit the following cell so that you can see a plot of all the PCs needed to explain 80% of the variance in EMG activity. \n",
        "- find the line that says ```ax.plot(df_rate['time'],df_pca['PC0'],label = 'PC0',alpha = 0.75)```\n",
        "- If you need to plot more PCs, copy that line (ctrl + C on the keyboard), make a new line, and paste it (ctrl + V on the keyboard).\n",
        "- change 'PC0' to the next PC you want to plot (for example 'PC1') everywhere in your pasted line that you see it. \n",
        "- do this for all PCs needed. <br>\n",
        "\n",
        "<div class=\"alert alert-success\"><b>Task:</b> Edit the cell below so that you plot the PCs needed to explain at least 80% of the total variance in the movement (based on EMG activity). Run the cell to get a labelled line plot of these PCs overlaid.</div>"
      ]
    },
    {
      "cell_type": "code",
      "execution_count": null,
      "id": "dfed6e1b-22cc-4b82-8404-59f9b5b71991",
      "metadata": {
        "id": "dfed6e1b-22cc-4b82-8404-59f9b5b71991"
      },
      "outputs": [],
      "source": [
        "hfig,ax = plt.subplots(1)\n",
        "ax.set_xlabel('seconds')\n",
        "ax.set_ylabel('PC units')\n",
        "ax.set_yticklabels([])\n",
        "\n",
        "ax.plot(df_rate['time'],df_pca['PC0'],label = 'PC0',alpha = 0.75)\n",
        "\n",
        "\n",
        "# YOU CAN ADD AS MANY OF THE ax.plt LINES AS YOU NEED TO EXPLAIN 80% of the variance \n",
        "\n",
        "plt.legend();"
      ]
    },
    {
      "cell_type": "markdown",
      "id": "111c3ca0-22a4-4426-ad04-8b70340bb706",
      "metadata": {
        "id": "111c3ca0-22a4-4426-ad04-8b70340bb706"
      },
      "source": [
        "<a id=\"emgpcaspace\"></a>\n",
        "### EMG space.\n",
        "[*return to table of contents*](#contents)<br>\n",
        "Dimensionality reduction techniques, such as principle components analysis (PCA), enable us to represent and quantify high-dimensional things (like neural populations and movements) in a new *space*. <br>\n",
        "These PCA spaces are in some ways abstract. But in other ways, the abstract space is actually the essence of the neural activity or movement. <br>\n",
        "What does each movement look like (what is its \"shape\"?) in the space defined by the PCA dimensions calculated from all movement recorded?\n",
        "\n",
        "<div class=\"alert alert-success\"><b>Task:</b> Running the cell below plots the first, second, and third principal components against each other in 3D space. Movement A is in purple and Movement B is in green.</div>"
      ]
    },
    {
      "cell_type": "code",
      "execution_count": null,
      "id": "ae38b990-35fb-44f6-b71a-87a5c57e6756",
      "metadata": {
        "id": "ae38b990-35fb-44f6-b71a-87a5c57e6756"
      },
      "outputs": [],
      "source": [
        "\n",
        "# No need to edit this code cell\n",
        "################################\n",
        "fig, ax = plt.subplots(1)\n",
        "ax = plt.axes(projection='3d')\n",
        "ax.set_xlabel('Principal Component 0')\n",
        "ax.set_ylabel('Principal Component 1')\n",
        "ax.set_zlabel('Principal Component 2')\n",
        "indA = ((df_rate['time']>startA) & (df_rate['time']<stopA))\n",
        "indB = ((df_rate['time']>startB) & (df_rate['time']<stopB))\n",
        "ax.plot3D(df_pca[indA]['PC0'],df_pca[indA]['PC1'],df_pca[indA]['PC2'],color = 'purple',alpha = 0.5,linewidth=2)\n",
        "ax.plot3D(df_pca[indB]['PC0'],df_pca[indB]['PC1'],df_pca[indB]['PC2'],color = 'green',alpha = 0.5,linewidth=2);\n"
      ]
    },
    {
      "cell_type": "markdown",
      "id": "e1f1365e-440e-4ec9-b2c7-ad3b7b23086e",
      "metadata": {
        "id": "e1f1365e-440e-4ec9-b2c7-ad3b7b23086e"
      },
      "source": [
        "<a id=\"movement\"></a>\n",
        "## Part III. Movement analysis\n",
        "[*return to table of contents*](#contents)<br>\n",
        "Now let's examine how motor system activity relates to movement kinematics.\n",
        "### Edit the code cell below with the appropriate information, then play/execute the cell\n",
        "- **bodyparts** is the list of body parts that are relevant to your analysis of the movement/muscle activity. Each body part must be in quotes. Body parts separated by commas.\n",
        "- **bones** = is the list of bones that are relevant to your analysis of the movement/muscle activity. The names of your bones are determined by how you constructed your skeleton. Each bone must be in quotes. Bones separated by commas.\n",
        "<br>\n",
        "\n",
        "#### Possible body parts: (1 = right, 2 = left)\n",
        "- wrist1(or 2), elbow1(or 2), shoulder1(or 2), hip1(or 2), knee1(or 2), ankle1(or 2), chin, forehead.\n",
        "\n",
        "#### Possible bones: \n",
        "- refer to the skeleton that you created for your video tracking in Collaboratory notebook. \n",
        "\n",
        "<div class=\"alert alert-success\"><b>Task:</b> Running the cell below will import and collect tracking data for the body parts and bones that you specify.</div>"
      ]
    },
    {
      "cell_type": "code",
      "execution_count": null,
      "id": "4652623b-15c0-4a44-82a6-b329fee3fc0e",
      "metadata": {
        "id": "4652623b-15c0-4a44-82a6-b329fee3fc0e"
      },
      "outputs": [],
      "source": [
        "bodyparts = ['wrist1','elbow1','elbow2',...]\n",
        "bones = ['wrist1_elbow1','elbow1_shoulder1',...]\n",
        "\n",
        "\n",
        "\n",
        "# No need to edit below this line\n",
        "################################\n",
        "\n",
        "df_vid = pd.read_hdf(joints_path) # import data from body parts _filtered.h5\n",
        "df_vid = df_vid[df_vid.columns[0][0]]\n",
        "df_vid.columns = df_vid.T.index.map('_'.join)\n",
        "coords = ['_x','_y']\n",
        "# filter by coordinates or liklihood\n",
        "coords = [any(keep in ele for keep in coords) for ele in list(df_vid.columns)]\n",
        "# filter by bodyparts\n",
        "bodyparts_ind = [any(keep in ele for keep in bodyparts) for ele in list(df_vid.columns)]\n",
        "df_vid_bodyparts = df_vid.loc[:,(np.asarray(coords) & np.asarray(bodyparts_ind))]\n",
        "\n",
        "df_vid = pd.read_hdf(bones_path) # import data from bones _skeleton.h5\n",
        "df_vid.columns = df_vid.T.index.map('_'.join)\n",
        "coords = ['orientation']\n",
        "# filter by coordinates or liklihood\n",
        "coords = [any(keep in ele for keep in coords) for ele in list(df_vid.columns)]\n",
        "# filter by bodyparts\n",
        "bones_ind = [any(keep in ele for keep in bones) for ele in list(df_vid.columns)]\n",
        "df_vid_bones = df_vid.loc[:,(np.asarray(coords) & np.asarray(bones_ind))]\n",
        "\n",
        "df_vid = df_vid_bones.join(df_vid_bodyparts) # combine bones and bodyparts\n",
        "df_vid =(df_vid - df_vid.mean()) / df_vid.std() # mean subtract and normalize by std\n",
        "df_vid['time'] = df_vid.index.values / fs_vid # create time column\n",
        "df_vid = df_vid[((df_vid['time']>startA) & (df_vid['time']<stopA)) | ((df_vid['time']>startB) & (df_vid['time']<stopB))] # select start:stop section\n",
        "\n",
        "print('body parts and bones that you can now analyze for kinematics:')\n",
        "print(list(df_vid.keys()))\n",
        "print('')\n",
        "print('sample of table with positions of body parts and orientations of bones')\n",
        "display(df_vid.head())\n",
        "\n"
      ]
    },
    {
      "cell_type": "markdown",
      "id": "e0974ab7-4585-41ad-9e4c-e9af1120c9a7",
      "metadata": {
        "id": "e0974ab7-4585-41ad-9e4c-e9af1120c9a7"
      },
      "source": [
        "<a id=\"kinematics\"></a>\n",
        "### Calculate some basic movement kinematics - speed\n",
        "[*return to table of contents*](#contents)<br>\n",
        "\n",
        "<div class=\"alert alert-success\"><b>Task:</b> Running the cell below gets the speed of each body part in _x and _y  and the speed of each bone (in degrees). You only need to run this cell once. It automatically calculates the speed of every body part and bone that you imported (defined by bodyparts and bones lists in previous cell). You will be able to see the new table with all of these columns added (you actually won't be able to see all the columns because the table is too wide to show here).</div>"
      ]
    },
    {
      "cell_type": "code",
      "execution_count": null,
      "id": "960233e8-f503-4dc3-9f06-1b8fc152b0b4",
      "metadata": {
        "id": "960233e8-f503-4dc3-9f06-1b8fc152b0b4"
      },
      "outputs": [],
      "source": [
        "# No need to edit this code cell\n",
        "################################\n",
        "print('movement parameters quantified:')\n",
        "for b in bodyparts:\n",
        "    print(b)\n",
        "    d = b + '_x'\n",
        "    new_name = b + '_xspeed'\n",
        "    print(new_name)\n",
        "    df_vid = get_bodypart_speed(df_vid,d,new_name)\n",
        "    \n",
        "for b in bodyparts:\n",
        "    d = b + '_y'\n",
        "    new_name = b + '_yspeed'\n",
        "    print(new_name)\n",
        "    df_vid = get_bodypart_speed(df_vid,d,new_name)\n",
        "    \n",
        "for b in bones:\n",
        "    b = b + '_orientation'\n",
        "    print(b)\n",
        "    new_name = b + '_speed'\n",
        "    print(new_name)\n",
        "    df_vid = get_bone_speed(df_vid,b,new_name)\n",
        "\n",
        "# No need to edit below this line\n",
        "################################\n",
        "display(df_vid.drop('time',axis=1).head())\n",
        "print('body parts, bones, and kinematics that you can now examine and compare to muscle activity:')\n",
        "print(list(df_vid.drop('time',axis=1).keys()))"
      ]
    },
    {
      "cell_type": "markdown",
      "id": "b9385d4a-54a7-4484-97e9-97e33418d93a",
      "metadata": {
        "id": "b9385d4a-54a7-4484-97e9-97e33418d93a"
      },
      "source": [
        "<a id=\"movementpca\"></a>\n",
        "### *Dimensionality Reduction* of movement.\n",
        "[*return to table of contents*](#contents)<br>\n",
        "> We won't even bother plotting individual movement kinematics this time... why? Do you see how many variables there are to plot!? And we only quantified speed! We could also look at acceleration, etc. \n",
        "\n",
        "<div class=\"alert alert-success\"><b>Task:</b> Run the cell below to perform a \"Principal Components Analysis\" (PCA) on the ALL of the tracking and kinematics data that you have used to quantify the movement. You will get a report printed out of how many variables the movement was originally described by and how many PCs the movement was reduced to (I have set this to 10). You will get a scatter plot showing how much of the variance in the data is explained by each principle component.</div>"
      ]
    },
    {
      "cell_type": "code",
      "execution_count": null,
      "id": "2c161daf-ee75-4c3e-85db-005ec5654ca3",
      "metadata": {
        "id": "2c161daf-ee75-4c3e-85db-005ec5654ca3"
      },
      "outputs": [],
      "source": [
        "# No need to edit this code cell the first time you run in\n",
        "################################\n",
        "df = df_vid.drop('time',axis=1)\n",
        "df =(df - df.mean()) / df.std()\n",
        "n_dim = 10\n",
        "n_components=np.min([n_dim,df.shape[1]]) # if try to take more components than have channels, use amount of channels\n",
        "print('You quantified your movement into ' + str(len(df.columns)) + ' positional and kinematic variables')\n",
        "pca = PCA(n_components=n_components)\n",
        "pca.fit(df)\n",
        "df_pca = pd.DataFrame(pca.transform(df), columns=['PC%i' % i for i in range(n_components)], index=df.index)\n",
        "print('Your movement has now been transformed into ' + str(n_components) + ' principle components.')\n",
        "\n",
        "\n",
        "# No need to edit this code cell\n",
        "################################\n",
        "hfig,ax = plt.subplots(1)\n",
        "ax.scatter(df_pca.columns,pca.explained_variance_ratio_,color='black',s=100)\n",
        "ax.set_ylabel('Explained Variance')\n",
        "ax.set_xlabel('Principal Components')\n",
        "ax.set_ylim(-0.05,1.05)"
      ]
    },
    {
      "cell_type": "markdown",
      "id": "47dddb83-8d2d-4226-8354-56026b45e4f1",
      "metadata": {
        "id": "47dddb83-8d2d-4226-8354-56026b45e4f1"
      },
      "source": [
        "<a id=\"movementpca_var\"></a>\n",
        "### Explained variance\n",
        "[*return to table of contents*](#contents)<br>\n",
        "Transform the plot above into a 'cumulative variance' plot by using the cell below. For each PC variable listed below, make it equal to the total amount of variance explained at each PC (for example, the total variance explained by PC2 would be the total variance explained by PC0 plus the total variance explained by PC1 plus the total variance explained by PC2). \n",
        "\n",
        "<div class=\"alert alert-success\"><b>Task:</b> Edit and run the cell below to make a scatter plot of the cummulative variance explained. The horizontal line marks the point at which 80% of the total variance is explained by the PCs.</div>"
      ]
    },
    {
      "cell_type": "code",
      "execution_count": null,
      "id": "36363f18-1902-484c-9b91-5fb08fc7ac35",
      "metadata": {
        "id": "36363f18-1902-484c-9b91-5fb08fc7ac35"
      },
      "outputs": [],
      "source": [
        "PC0var = \n",
        "PC1var = \n",
        "PC2var = \n",
        "PC3var = \n",
        "PC4var = \n",
        "PC5var = \n",
        "PC6var = \n",
        "PC7var = \n",
        "PC8var = \n",
        "PC9var = \n",
        "\n",
        "# No need to edit below this line\n",
        "################################\n",
        "hfig,ax = plt.subplots(1)\n",
        "cummsum = [PC0var,PC1var,PC2var,PC3var,PC4var,PC5var,PC6var,PC7var,PC8var,PC9var]\n",
        "ax.scatter(df_pca.columns[0:len(cummsum)],cummsum,color='black',s=100)\n",
        "ax.hlines(0.8,0,len(cummsum))\n",
        "ax.set_ylabel('Total Explained Variance')\n",
        "ax.set_xlabel('Principal Components')\n",
        "ax.set_ylim(-0.05,1.05)"
      ]
    },
    {
      "cell_type": "markdown",
      "id": "f0828de3-0144-4e50-af2b-de03b7134d13",
      "metadata": {
        "id": "f0828de3-0144-4e50-af2b-de03b7134d13",
        "tags": []
      },
      "source": [
        "<a id=\"movementpca_plot\"></a>\n",
        "### Movement activity described in PC space.\n",
        "[*return to table of contents*](#contents)<br>\n",
        "PC0 is the first principal component of the movement, PC1 is the second, etc.\n",
        "> Importantly, these principal components are *independent* of each other. They are *orthogonal* dimensions of the movement.\n",
        "Edit the following cell so that you can see a plot of all the PCs needed to explain 80% of the variance in EMG activity. \n",
        "- find the line that says ```ax.plot(df_vid['time'],df_pca['PC0'],label = 'PC0',alpha = 0.75)```\n",
        "- If you need to plot more PCs, copy that line (ctrl + C on the keyboard), make a new line, and paste it (ctrl + V on the keyboard).\n",
        "- change 'PC0' to the next PC you want to plot (for example 'PC1') everywhere in your pasted line that you see it. \n",
        "- do this for all PCs needed. <br>\n",
        "\n",
        "<div class=\"alert alert-success\"><b>Task:</b> Edit the cell below so that you plot the PCs needed to explain at least 80% of the total variance in the movement (based on EMG activity). Run the cell to get a labelled line plot of these PCs overlaid.</div>"
      ]
    },
    {
      "cell_type": "code",
      "execution_count": null,
      "id": "9b40472c-cc4c-4b9d-89ab-ff3e185e0807",
      "metadata": {
        "id": "9b40472c-cc4c-4b9d-89ab-ff3e185e0807"
      },
      "outputs": [],
      "source": [
        "hfig,ax = plt.subplots(1)\n",
        "ax.set_xlabel('seconds')\n",
        "ax.set_ylabel('PC units')\n",
        "ax.set_yticklabels([])\n",
        "\n",
        "ax.plot(df_vid['time'],df_pca['PC0'],label = 'PC0',alpha = 0.75)\n",
        "\n",
        "\n",
        "# YOU CAN ADD AS MANY OF THE ax.plt LINES AS YOU NEED TO EXPLAIN 80% of the variance \n",
        "\n",
        "plt.legend();"
      ]
    },
    {
      "cell_type": "markdown",
      "id": "55ec58c0-0be8-408e-9519-c7d750c4466a",
      "metadata": {
        "id": "55ec58c0-0be8-408e-9519-c7d750c4466a"
      },
      "source": [
        "<a id=\"movementpcaspace\"></a>\n",
        "### Movement PCA space\n",
        "[*return to table of contents*](#contents)<br>\n",
        "Dimensionality reduction techniques, such as principle components analysis (PCA), enable us to represent and quantify high-dimensional things (like neural populations and movements) in a new *space*. \n",
        "These PCA spaces are in some ways abstract. But in other ways, the abstract space is actually the essence of the neural activity or movement. \n",
        "What does each movement look like (what is its \"shape\"?) in the space defined by the PCA dimensions calculated from all movement recorded?\n",
        "\n",
        "<div class=\"alert alert-success\"><b>Task:</b> Running the cell below plots the first, second, and third principal components against each other in 3D space. Movement A is in purple and Movement B is in green.</div>"
      ]
    },
    {
      "cell_type": "code",
      "execution_count": null,
      "id": "331571fc-707b-41ad-bd09-92026e4eac84",
      "metadata": {
        "id": "331571fc-707b-41ad-bd09-92026e4eac84"
      },
      "outputs": [],
      "source": [
        "\n",
        "# No need to edit this code cell\n",
        "################################\n",
        "fig, ax = plt.subplots(1)\n",
        "ax = plt.axes(projection='3d')\n",
        "ax.set_xlabel('Principal Component 0')\n",
        "ax.set_ylabel('Principal Component 1')\n",
        "ax.set_zlabel('Principal Component 2')\n",
        "indA = ((df_vid['time']>(startA+0.5)) & (df_vid['time']<(stopA-0.5)))\n",
        "indB = ((df_vid['time']>(startB+0.5)) & (df_vid['time']<(stopB-0.5)))\n",
        "ax.plot3D(df_pca[indA]['PC0'],df_pca[indA]['PC1'],df_pca[indA]['PC2'],color = 'purple',alpha = 0.5,linewidth=2)\n",
        "ax.plot3D(df_pca[indB]['PC0'],df_pca[indB]['PC1'],df_pca[indB]['PC2'],color = 'green',alpha = 0.5,linewidth=2);\n"
      ]
    },
    {
      "cell_type": "markdown",
      "id": "315a10cd-daa0-4956-9a4f-fb9642274db5",
      "metadata": {
        "id": "315a10cd-daa0-4956-9a4f-fb9642274db5"
      },
      "source": [
        "<a id=\"movementpcaspace_animated\"></a>\n",
        "### How does the movement evolve over time? (ie. where is time in the plot?)\n",
        "[*return to table of contents*](#contents)<br>\n",
        "<div class=\"alert alert-success\"><b>Task:</b> Running the cell below animates the movement over time through this \"latent\" space - the space defined by the principal components.</div>"
      ]
    },
    {
      "cell_type": "code",
      "execution_count": null,
      "id": "70c0b1b0-c3f3-44ad-83ad-502a200cc2ba",
      "metadata": {
        "id": "70c0b1b0-c3f3-44ad-83ad-502a200cc2ba"
      },
      "outputs": [],
      "source": [
        "# No need to edit this code cell\n",
        "################################\n",
        "\n",
        "fig, ax = plt.subplots(1)\n",
        "ax.plot(df_pca['PC0'],df_pca['PC1'],color = 'black',alpha = 0.5,linewidth=2)\n",
        "t, = ax.plot(df_pca['PC0'].values[0], df_pca['PC1'].values[0],color = 'red',marker='.',markersize = 20)\n",
        "\n",
        "def animate(i):\n",
        "    ax.plot(df_pca['PC0'].values[i], df_pca['PC1'].values[i],color = 'red',marker='.',markersize = 15,zorder=3,alpha = 0.25)\n",
        "    \n",
        "ani = animation.FuncAnimation(\n",
        "    fig, animate, frames = len(df_pca),interval=10, repeat = False)\n",
        "plt.show()"
      ]
    },
    {
      "cell_type": "markdown",
      "id": "731b7d37-09bd-4c37-935d-0c6cd65784ae",
      "metadata": {
        "id": "731b7d37-09bd-4c37-935d-0c6cd65784ae"
      },
      "source": [
        "<a id=\"takehome\"></a>\n",
        "# Take-home assignmnent\n",
        "[*return to table of contents*](#contents)<br>\n",
        "\n",
        "### Figure 1\n",
        "Use the plot of the EMG amplitude envelop (with the processed signal from each muscle overlaid). Create a figure containing 2 full periods/cycles of each rhythmic patterned movement (one figure for each movement).\n",
        "Visually indicate the start of one cycle and the stop of that cycle. With words, describe: which muscle cells were active (spiking) in phase and which were out of phase with each other?, what was the pattern of co-activation over time? It might not make sense to do this for every little deflection you see in the amplitude envelope - so decide what gives you a balance between a clear and an accurate description. Make a conclusive qualitative statement about the main difference between the two movements based on the pattern of EMG activity (this is a statement that you would want to quantify somehow in order to study more about the difference between these movements).\n",
        "\n",
        "### Figure 2\n",
        "Re-label the correlation matrix rows and columns with your muscles. What are some of the differences between the two movements in terms of correlation patterns? Again, instead of focusing on listing every comparison, use the quantification to make concise and useful qualitative statements about how the pattern of muscle activation differs. \n",
        "\n",
        "### Figure 3\n",
        "Using the appropriate code cells in the notebook... \n",
        "Panel A) EMG PCA - Calculate the cummulative variance explained and make a scatter plot of that result. \n",
        "Panel B) Make an overlay plot of the PCs that you need to explain at least 80% of the variance. Similar to FIgure 1, describe the pattern of EMG activity using the pattern of PC activation.\n",
        "Panel C and D) Same as A and B, but for the movement kinematics instead of the EMG signals. \n",
        "\n",
        "### Figure 4\n",
        "Panels A, B, C, D, E, F: 3 columns, 2 rows of panels.\n",
        "Columns: Movement A, Movement B, Movement A vs B\n",
        "Rows: EMG, Video\n",
        "Rotate the 3D plots of the EMG/video data in PC space (PC0 vs PC1 vs PC2) to get 2D figures (using the \"save as\" button) for each panel. For the Movement A column, rotate the PC space until you find a view that shows movement A best (the plan along which movement A varies the most in 2 dimensions). Movement B column, same as A but for movement B. Movement A vs B column, rotate the PC space until you find a plane that shows the most separation between the two movements.\n",
        "Relate the Movement A vs B results back to what you showed in Figure 3 B&D. In other words, how does the variance in each PC in Figure 3B vs D relate to the plane in 3D PC space on which the two movements are the most seperable/different?\n"
      ]
    }
  ],
  "metadata": {
    "colab": {
      "collapsed_sections": [],
      "name": "EMG_MultiChannelEMG_WithVideo_CodingLight.ipynb",
      "provenance": [],
      "include_colab_link": true
    },
    "kernelspec": {
      "display_name": "Python 3 (ipykernel)",
      "language": "python",
      "name": "python3"
    },
    "language_info": {
      "codemirror_mode": {
        "name": "ipython",
        "version": 3
      },
      "file_extension": ".py",
      "mimetype": "text/x-python",
      "name": "python",
      "nbconvert_exporter": "python",
      "pygments_lexer": "ipython3",
      "version": "3.8.12"
    }
  },
  "nbformat": 4,
  "nbformat_minor": 5
}