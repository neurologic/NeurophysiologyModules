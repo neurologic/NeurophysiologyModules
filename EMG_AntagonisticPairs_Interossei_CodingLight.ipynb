{
  "nbformat": 4,
  "nbformat_minor": 5,
  "metadata": {
    "kernelspec": {
      "display_name": "Python 3 (ipykernel)",
      "language": "python",
      "name": "python3"
    },
    "language_info": {
      "codemirror_mode": {
        "name": "ipython",
        "version": 3
      },
      "file_extension": ".py",
      "mimetype": "text/x-python",
      "name": "python",
      "nbconvert_exporter": "python",
      "pygments_lexer": "ipython3",
      "version": "3.8.12"
    },
    "colab": {
      "name": "EMG_AntagonisticPairs_Interossei_CodingLight.ipynb",
      "provenance": [],
      "collapsed_sections": [],
      "include_colab_link": true
    }
  },
  "cells": [
    {
      "cell_type": "markdown",
      "metadata": {
        "id": "view-in-github",
        "colab_type": "text"
      },
      "source": [
        "<a href=\"https://colab.research.google.com/github/neurologic/NeurophysiologyModules/blob/main/EMG_AntagonisticPairs_Interossei_CodingLight.ipynb\" target=\"_parent\"><img src=\"https://colab.research.google.com/assets/colab-badge.svg\" alt=\"Open In Colab\"/></a>"
      ]
    },
    {
      "cell_type": "markdown",
      "source": [
        "## Table of Contents\n",
        "1. [Introduction](#scrollTo=850eb426-07d8-4407-82f1-f163a2c960b6)\n",
        "2. [Initialize Notebook](#scrollTo=GsbjCNcAw9VA)\n",
        "3. [Raw EMG Signal](#scrollTo=0c80eb80-1d17-47bb-81a8-023bf0c2476d)\n",
        "4. [Select Movement](#scrollTo=jE6GzivbzjVP)\n",
        "5. [Calculate EMG envelope](#scrollTo=0d1f1545-2f25-4bfe-be34-1dfb7ca3444e)\n",
        "6. [Analyze Muscle Coordination](#scrollTo=84f7e282-b954-42bd-8ea2-b5edb134ec99)\n",
        "7. [Connect Muscles to Movement](#scrollTo=0d494468-1f12-4f71-9196-9a77e1633a38)\n",
        "\n",
        "<hr>"
      ],
      "metadata": {
        "id": "zIt8pCksxZic"
      },
      "id": "zIt8pCksxZic"
    },
    {
      "cell_type": "markdown",
      "metadata": {
        "id": "850eb426-07d8-4407-82f1-f163a2c960b6"
      },
      "source": [
        "## 1. Introduction\n",
        "([Return to Table of Contents](#scrollTo=zIt8pCksxZic))\n",
        "\n",
        "By thoughtfully working through the analysis in this notebook, you will learn more about what it means for neural/muscle activity to be coordinated, and how activity in the motor system relates to movement in the world. \n",
        "Some of the terms and analytic techniques that you will be using:\n",
        "- EMG\n",
        "- amplitude envelope\n",
        "- correlation\n",
        "- kinematics\n",
        "\n",
        "Throughout the notebook, you will plot both raw and processed data.\n",
        "- You can interact with the plots by zooming in and panning. <br>\n",
        "- You can save the current plot view at any time by hitting the \"download\" icon - it will save to your Downloads folder. Make sure to re-name the auto-generated file and make notes about what you plotted right away. <br>\n",
        "\n",
        "To aquire this dataset, two differential emg electrodes were used to simultaneously record emg activity at 100Hz from two dorsal interossei muscles - one on either side of the second digit (at the axial line). A video camera simultaneously [captured images at 30 frames per second](https://drive.google.com/file/d/1pcTWfYmSyoXg-aSzfjAr7cAzLZnyGQTd/view?usp=sharing).\n",
        "\n",
        "<img src='https://drive.google.com/uc?export=view&id=170GkCR_9lii5930iedjNcdhb36YigyYM' width=300px>\n",
        "\n",
        "There were 5 different movement conditions to explore how movement of the second digit relates to electrical activity in its lateral antagonists. \n",
        "<br>\n",
        "<br>\n",
        "\n",
        "--- \n",
        "\n",
        "### **Assignment**: \n",
        "After going through the notebook from start to finish and exploring the data, use steps 6 and 7 to make two figures that compare two finger movement conditions of your choice. \n",
        " - Figure 1: Muscle Coordination. \n",
        " - Figure 2: The relationship between movement and muscle.\n",
        " \n",
        "Include a concise legend and a results/discussion paragraph for each figure . \n",
        "\n",
        "---\n",
        "\n",
        "\n",
        "\n"
      ],
      "id": "850eb426-07d8-4407-82f1-f163a2c960b6"
    },
    {
      "cell_type": "markdown",
      "source": [
        "## 2. Initialize notebook.\n",
        "([Return to Table of Contents](#scrollTo=zIt8pCksxZic))\n"
      ],
      "metadata": {
        "id": "GsbjCNcAw9VA"
      },
      "id": "GsbjCNcAw9VA"
    },
    {
      "cell_type": "code",
      "source": [
        "#@markdown **TASK:** Run this code cell to mount your Google Drive.\n",
        "\n",
        "from google.colab import drive\n",
        "drive.mount('/content/drive')\n"
      ],
      "metadata": {
        "id": "r9t8zvJfY_V2",
        "cellView": "form"
      },
      "id": "r9t8zvJfY_V2",
      "execution_count": null,
      "outputs": []
    },
    {
      "cell_type": "code",
      "metadata": {
        "id": "63fd8fa5-0914-4d1a-87bd-9d20927aedca",
        "cellView": "form"
      },
      "source": [
        "#@markdown **TASK:** Run this code cell to load packages, \n",
        "#@markdown initialize the notebook, and load the dataset you will explore and analyze.\n",
        "#@markdown > **NOTE:** If you are loading these files from a different \n",
        "#@markdown location than the BIOL358 course, change the filepaths as needed below\n",
        "#@markdown before running.\n",
        "filepath_emg = '/content/drive/Shareddrives/BIOL358/Data/Interossei_2chan_WithVideo/emg_Resampled_2022-01-10T11_39_23.csv' #@param {type:\"string\"}\n",
        "filepath_joints = '/content/drive/MyDrive/Classroom/BIOL358: Motor Systems/Data/EMG_FingerAntagonists_MuscleShieldWithVideo/video2022-01-10T11_39_23DLC_resnet50_FingerMovementJan10shuffle1_200000_filtered.h5' #@param {type:\"string\"}\n",
        "filepath_bones = '/content/drive/MyDrive/Classroom/BIOL358: Motor Systems/Data/EMG_FingerAntagonists_MuscleShieldWithVideo/video2022-01-10T11_39_23DLC_resnet50_FingerMovementJan10shuffle1_200000_skeleton.h5' #@param {type:\"string\"}\n",
        "filepath_video_timestamps = '/content/drive/MyDrive/Classroom/BIOL358: Motor Systems/Data/EMG_FingerAntagonists_MuscleShieldWithVideo/vid_timestamps2022-01-10T11_39_23.csv' #@param {type:\"string\"}\n",
        "'''\n",
        "This notebook assumes that you have access to the shared\n",
        "data on Google Drive.\n",
        "Alternatively, you can upload a file to session storage \n",
        "and change this filepath.\n",
        "'''\n",
        "\n",
        "\n",
        "import matplotlib.pyplot as plt\n",
        "import numpy as np\n",
        "import pandas as pd\n",
        "from pathlib import Path\n",
        "# import matplotlib.pyplot as plt\n",
        "import plotly.express as px\n",
        "import plotly.graph_objects as go\n",
        "from plotly.subplots import make_subplots\n",
        "import ipywidgets as widgets\n",
        "from IPython.display import display\n",
        "import csv\n",
        "from scipy.signal import hilbert,medfilt,resample\n",
        "from sklearn.decomposition import PCA\n",
        "import scipy\n",
        "import seaborn as sns\n",
        "from datetime import datetime,timezone,timedelta\n",
        "pal = sns.color_palette(n_colors=15)\n",
        "pal = pal.as_hex()\n",
        "\n",
        "fs = 1000\n",
        "fs_vid = 30\n",
        "\n",
        "\n",
        "# datafolder = \"/content/drive/Shareddrives/BIOL358/Data/Interossei_2chan_WithVideo\"\n",
        "# emg_file = \"emg_Resampled_2022-01-10T11_39_23.csv\"\n",
        "# emg_path = Path(datafolder) / emg_file\n",
        "emg_path = Path(filepath_emg)\n",
        "\n",
        "# import data\n",
        "df_analog = pd.read_csv(emg_path.expanduser().resolve(), sep=',').drop(columns=['Unnamed: 0'])\n",
        "\n",
        "def get_bodypart_speed(df_vid,d,new_name):\n",
        "    dd = np.diff(df_vid[d].values)\n",
        "    fs_ = 1/np.mean(np.diff(df_vid['time']))\n",
        "    speed = np.concatenate([[0],dd/(1/fs_)])\n",
        "    filtert = int(0.15*fs_)\n",
        "    speed = scipy.ndimage.gaussian_filter(speed,filtert)\n",
        "    df_vid[new_name] = speed #(speed - np.mean(speed))/np.std(speed)\n",
        "    return df_vid\n",
        "\n",
        "def get_bone_speed(df_vid,bone,new_name):\n",
        "    dd = np.diff(df_vid[bone].values)\n",
        "    fs_ = 1/np.mean(np.diff(df_vid['time']))\n",
        "    speed = np.concatenate([[0],dd/(1/fs_)])\n",
        "    filtert = int(0.15*fs_)\n",
        "    speed = scipy.ndimage.gaussian_filter(speed,filtert)\n",
        "    df_vid[new_name] = speed #(speed - np.mean(speed))/np.std(speed)\n",
        "    return df_vid\n",
        "\n",
        "# datafolder = '/content/drive/MyDrive/Classroom/BIOL358: Motor Systems/Data/EMG_FingerAntagonists_MuscleShieldWithVideo'\n",
        "# joints_file = 'video2022-01-10T11_39_23DLC_resnet50_FingerMovementJan10shuffle1_200000_filtered.h5'\n",
        "# bones_file = 'video2022-01-10T11_39_23DLC_resnet50_FingerMovementJan10shuffle1_200000_skeleton.h5'\n",
        "# videotimestamps_file = \"vid_timestamps2022-01-10T11_39_23.csv\"\n",
        "\n",
        "joints_path = Path(filepath_joints) #Path(datafolder) / joints_file\n",
        "bones_path = Path(filepath_bones) #Path(datafolder) / bones_file\n",
        "video_path = Path(filepath_video_timestamps) #Path(datafolder) / videotimestamps_file\n",
        "\n",
        "bodyparts = ['2_Tip','2_K1','2_K2','2_K3','1_K1']\n",
        "bones = ['2_Tip_2_K3']\n",
        "\n",
        "## Now import video data and do some processing\n",
        "##########\n",
        "offset_vidstart = 1.0742 #offset time between video start and analog recording start (video starts first)\n",
        "\n",
        "df_vid = pd.read_hdf(joints_path) # import data from body parts _filtered.h5\n",
        "df_vid = df_vid[df_vid.columns[0][0]]\n",
        "df_vid.columns = df_vid.T.index.map('_'.join)\n",
        "coords = ['_x','_y']\n",
        "# filter by coordinates or liklihood\n",
        "coords = [any(keep in ele for keep in coords) for ele in list(df_vid.columns)]\n",
        "\n",
        "# filter by bodyparts\n",
        "bodyparts = [any(keep in ele for keep in bodyparts) for ele in list(df_vid.columns)]\n",
        "df_vid_bodyparts = df_vid.loc[:,(np.asarray(coords) & np.asarray(bodyparts))]\n",
        "\n",
        "df_vid = pd.read_hdf(bones_path) # import data from bones _skeleton.h5\n",
        "df_vid.columns = df_vid.T.index.map('_'.join)\n",
        "coords = ['orientation']\n",
        "# filter by coordinates or liklihood\n",
        "coords = [any(keep in ele for keep in coords) for ele in list(df_vid.columns)]\n",
        "# filter by bodyparts\n",
        "bones = [any(keep in ele for keep in bones) for ele in list(df_vid.columns)]\n",
        "df_vid_bones = df_vid.loc[:,(np.asarray(coords) & np.asarray(bones))]\n",
        "\n",
        "df_vid = df_vid_bones.join(df_vid_bodyparts) # combine bones and bodyparts\n",
        "df_vid['time'] = (df_vid.index.values / fs_vid) - offset_vidstart # create time column\n",
        "# df_vid = df_vid[((df_vid['time']>(start)) & (df_vid['time']<(stop)))] # select start:stop section\n",
        "\n",
        "df_vid = get_bodypart_speed(df_vid,'2_Tip_y','2_Tip_y_speed')\n",
        "df_vid = get_bodypart_speed(df_vid,'2_Tip_x','2_Tip_x_speed')\n",
        "df_vid = get_bone_speed(df_vid,'2_Tip_2_K3_orientation','2_Tip_2_K3_speed')\n",
        "\n",
        "print('Task completed at ' + str(datetime.now(timezone(-timedelta(hours=5)))))\n",
        "\n",
        "\n",
        "###### NOTE TO INSTRUCTORS COLLECTING RAW DATA #######\n",
        "# If have not processed the data yet: need to do this. Save as a \"pre-processing step\" for this lab\n",
        "# emg_file_preprocessed = \"emg_channels2022-01-10T11_39_23.csv\"\n",
        "# emg_path = Path(folderpath) / emg_file_preprocessed\n",
        "# #%% import data\n",
        "# df_analog_ = pd.read_csv(emg_path.expanduser().resolve(), sep=',')\n",
        "# # reformat 'Time' to start at t0 = 0 and be units of seconds\n",
        "# # xtime = (df_analog['Time']-df_analog['Time'].iloc[0])/1000\n",
        "# # reformat 'Time' to be units of seconds\n",
        "# xtime = (df_analog_['time'])/1000\n",
        "# df_analog_['time'] = xtime\n",
        "# x = np.linspace(df_analog_['time'].iloc[0],df_analog_['time'].iloc[-1],\n",
        "#                 int((df_analog_['time'].iloc[-1]-df_analog_['time'].iloc[0])*fs))\n",
        "# df_mat = [df_analog_.loc[np.max(df_analog_[df_analog_['time']<=x_].index)].values for x_ in x]\n",
        "# df_analog = pd.DataFrame(df_mat,columns = df_analog_.columns)\n",
        "# # df_analog = df_analog.loc[:,channels]\n",
        "# df_analog['time']=x-x[0]\n",
        "## pick a new file name\n",
        "# df_analog.to_csv(Path(folderpath) / 'resampled' + emg_file_preprocessed)"
      ],
      "id": "63fd8fa5-0914-4d1a-87bd-9d20927aedca",
      "execution_count": null,
      "outputs": []
    },
    {
      "cell_type": "markdown",
      "metadata": {
        "id": "0c80eb80-1d17-47bb-81a8-023bf0c2476d"
      },
      "source": [
        "## 3. Plot the raw EMG signal from each interossei muscle\n",
        "([Return to Table of Contents](#scrollTo=zIt8pCksxZic))\n",
        "\n",
        "> The amplitude units of an EMG signal are in Volts. For this lab, we will focus on relative EMG amplitude, not its absolute value. In the next step, you will be obtaining the \"amplitude envelope\" of this raw signal, which discards absolute Voltage information. <br>\n",
        "<br>\n",
        "> The \"baseline\" of each channels is offset from each other so that they are not visually overlaid - the baseline voltage of the recording on each channel was actually zero. \n"
      ],
      "id": "0c80eb80-1d17-47bb-81a8-023bf0c2476d"
    },
    {
      "cell_type": "code",
      "metadata": {
        "id": "8290362d-2e74-4fd3-acd3-e4ef54467a38",
        "cellView": "form"
      },
      "source": [
        "#@markdown **TASK:** Run this cell to plot the raw EMG data.\n",
        "#@markdown You can then zoom in and scroll around to explore the data. \n",
        "\n",
        "fig = go.Figure()\n",
        "fig.add_trace(go.Scatter(x = df_analog['time'].values, y = df_analog['emg0'].values,line_color='orange',name='lateral'))\n",
        "fig.add_trace(go.Scatter(x = df_analog['time'].values, y = df_analog['emg1'].values + 300,line_color='purple',name='medial'))\n",
        "fig.update_layout(xaxis_title=\"time(seconds)\", \n",
        "                  yaxis_title='amplitude',\n",
        "                  width=800, height=500)\n",
        "fig.layout.yaxis.showticklabels=False\n",
        "print('Task completed at ' + str(datetime.now(timezone(-timedelta(hours=5)))))\n",
        "fig.show()"
      ],
      "id": "8290362d-2e74-4fd3-acd3-e4ef54467a38",
      "execution_count": null,
      "outputs": []
    },
    {
      "cell_type": "markdown",
      "source": [
        "## 4. Analyze a selection of the data. \n",
        "([Return to Table of Contents](#scrollTo=zIt8pCksxZic))"
      ],
      "metadata": {
        "id": "jE6GzivbzjVP"
      },
      "id": "jE6GzivbzjVP"
    },
    {
      "cell_type": "code",
      "metadata": {
        "id": "ccb7f4d2-384b-4161-8c57-9d37750c91bc",
        "cellView": "form"
      },
      "source": [
        "#@markdown Pick a time window to analyze that corresponds to \n",
        "#@markdown which movement you want to analyze \n",
        "#@markdown and enter it in the code cell below.\n",
        "#@markdown > Note: get the time by hovering over the data plot. \n",
        "#@markdown - **start** = the start time of the bout of repeated movement (seconds).\n",
        "#@markdown - **stop** = the stop time of the bout of repeated movement (seconds).\n",
        "\n",
        "start = None #@param {type:\"number\"}\n",
        "stop = None #@param {type:\"number\"}\n",
        "\n",
        "#@markdown <b>Task:</b> After you have specified the start and stop times,\n",
        "#@markdown run this cell to execute the variable assignment.\n",
        "df_vid_selection = df_vid[((df_vid['time']>(start)) & (df_vid['time']<(stop)))] # select start:stop section\n",
        "df_analog_selection = df_analog[((df_analog['time']>start) & (df_analog['time']<stop))]\n",
        "\n",
        "print('all set - analysis domain defined')\n",
        "print('Task completed at ' + str(datetime.now(timezone(-timedelta(hours=5)))))"
      ],
      "id": "ccb7f4d2-384b-4161-8c57-9d37750c91bc",
      "execution_count": null,
      "outputs": []
    },
    {
      "cell_type": "markdown",
      "metadata": {
        "id": "0d1f1545-2f25-4bfe-be34-1dfb7ca3444e"
      },
      "source": [
        "## 5. Process the raw EMG signal into a rectified, smoothed \"amplitude envelope\"\n",
        "([Return to Table of Contents](#scrollTo=zIt8pCksxZic))\n",
        "\n",
        "> This is a type of *signal processing*. You have already encountered this type of signal processing when you analyzed the extracellular cockroach data that you collected earlier this semester. Remind yourself of what this does to the raw signal that you recorded. The result here is a processed signal that we will refer to as the *amplitude envelope* of the EMG activity. \n"
      ],
      "id": "0d1f1545-2f25-4bfe-be34-1dfb7ca3444e"
    },
    {
      "cell_type": "code",
      "metadata": {
        "id": "04522a80-6411-4c81-b24e-358987ac64dc",
        "cellView": "form"
      },
      "source": [
        "#@markdown <b>Task:</b> Run this cell to compute the envelope of the \n",
        "#@markdown raw EMG signal for the specified time window\n",
        "#@markdown and plot of the result. \n",
        "\n",
        "# Use rectfication and gaussian smoothing on EMG to get mean-centered rate\n",
        "df_rate = pd.DataFrame({})\n",
        "filtert = int(0.05*fs)\n",
        "for h in list(df_analog_selection.drop(columns='time').columns): # rename headers as input channels\n",
        "    y = df_analog_selection[h] - np.mean(df_analog_selection[h])\n",
        "    y = np.abs(y) #takes the absolute value of \n",
        "    y = scipy.ndimage.gaussian_filter(y,filtert)\n",
        "    df_rate[h] = y\n",
        "# df_rate = df_rate.subtract(df_rate.mean())\n",
        "# df_rate =(df_rate - df_rate.mean()) / df_rate.std()\n",
        "df_rate['time']=df_analog_selection['time'].values\n",
        "# df_rate = df_rate[((df_rate['time']>start) & (df_rate['time']<stop))]\n",
        "\n",
        "\n",
        "fig = go.Figure()\n",
        "fig.add_trace(go.Scatter(x = df_rate['time'].values, y = df_rate['emg0'].values,line_color='orange',name='lateral'))\n",
        "fig.add_trace(go.Scatter(x = df_rate['time'].values, y = df_rate['emg1'].values,line_color='purple',name='medial'))\n",
        "fig.update_layout(xaxis_title=\"time(seconds)\", \n",
        "                  yaxis_title='amplitude',width=800, height=400)\n",
        "fig.layout.xaxis.showticklabels=False\n",
        "print('Task completed at ' + str(datetime.now(timezone(-timedelta(hours=5)))))\n",
        "fig.show()"
      ],
      "id": "04522a80-6411-4c81-b24e-358987ac64dc",
      "execution_count": null,
      "outputs": []
    },
    {
      "cell_type": "markdown",
      "metadata": {
        "id": "84f7e282-b954-42bd-8ea2-b5edb134ec99"
      },
      "source": [
        "## 6. Muscle coordination\n",
        "([Return to Table of Contents](#scrollTo=zIt8pCksxZic))\n",
        "\n",
        "Think about how you would qualitatively describe the relationship between the two muscle signals that you plotted. The correlation metric is often helpful to quantify the relationship between signals. Essentially, correlation is the measure of how two or more variables are related to one another. https://en.wikipedia.org/wiki/Correlation\n",
        "\n"
      ],
      "id": "84f7e282-b954-42bd-8ea2-b5edb134ec99"
    },
    {
      "cell_type": "code",
      "metadata": {
        "id": "0387e96e-32ec-461c-a242-f7070d9356aa",
        "cellView": "form"
      },
      "source": [
        "#@markdown <b>Task:</b> Run this cell to: <br> 1. calculate the \n",
        "#@markdown mathematical correlation values between the two signals and\n",
        "#@markdown <br> 2. plot the lateral and medial EMG envelopes against each other. \n",
        "#@markdown - (Think about how the scatterplot is a way to visualize *correlation*.\n",
        "#@markdown Does the scatterplot change the way you interpret the correlation value that you calculated?)\n",
        "\n",
        "# No need to edit this code cell\n",
        "################################\n",
        "print('correlation matrix:')\n",
        "p_corr = df_rate.drop('time',axis=1).corr()\n",
        "# hfig, ax = plt.subplots(1)\n",
        "# sns.heatmap(p_corr, annot=True)\n",
        "display(p_corr)\n",
        "\n",
        "fig = go.Figure()\n",
        "fig.add_trace(go.Scatter(x = df_rate['emg0'].values, \n",
        "                         y = df_rate['emg1'].values,\n",
        "                        #  marker_color='black',\n",
        "                         mode = 'markers', \n",
        "                         marker=dict(\n",
        "                          color='black',\n",
        "                          size=2,\n",
        "                          opacity=0.5,)))\n",
        "fig.update_layout(xaxis_title=\"amplitude lateral interossei\", \n",
        "                  yaxis_title='amplitude medial interossei',\n",
        "                  width=400, height=400)\n",
        "fig.update_yaxes(\n",
        "    scaleanchor = \"x\",\n",
        "    scaleratio = 1,\n",
        "  )\n",
        "# axs.set_ylabel('amplitude (a.u.) of your second EMG channel')\n",
        "# axs.set_xlabel('amplitude (a.u.) of your first EMG channel');\n"
      ],
      "id": "0387e96e-32ec-461c-a242-f7070d9356aa",
      "execution_count": null,
      "outputs": []
    },
    {
      "cell_type": "markdown",
      "metadata": {
        "id": "0d494468-1f12-4f71-9196-9a77e1633a38"
      },
      "source": [
        "## 7. Connecting movements and muscles. \n",
        "([Return to Table of Contents](#scrollTo=zIt8pCksxZic))\n",
        "\n",
        "Now let's examine how motor system activity relates to movement kinematics. \n",
        "\n",
        "Individual landmarks on the hand were tracked using DeepLabCut. You can [view the video with tracked landmarks labelled](https://drive.google.com/file/d/17ML1ReBxOSoizQ2JaUkg1jiJj6nGiyDB/view?usp=sharing) (including \"trailing\" points of the past 5 positions of each landmark). The angle of speficic joint connections ('bones') were also calculated from the raw tracking data using DeepLabCut. In this section, you can explore the kinematics and how they relate to the muscle activity. "
      ],
      "id": "0d494468-1f12-4f71-9196-9a77e1633a38"
    },
    {
      "cell_type": "code",
      "source": [
        "#@markdown Activate Dropdown Menus.\n",
        "#@markdown >Note: Once activated, you do not need to re-run this \n",
        "#@markdown code cell to change your selection. \n",
        "\n",
        "# print('')\n",
        "# print('sample of table with positions of body parts and orientations of bones')\n",
        "# display(df_vid_selection.drop('time',axis=1))\n",
        "\n",
        "w_kinematics = widgets.SelectMultiple(\n",
        "    options=list(df_vid_selection.drop('time',axis=1).keys()),\n",
        "    rows=10,\n",
        "    disabled=False\n",
        ")\n",
        "print('')\n",
        "print('')\n",
        "print('body parts and bones that you can now analyze for kinematics:')\n",
        "\n",
        "display(w_kinematics)\n",
        "print('Dropdown generated at ' + str(datetime.now(timezone(-timedelta(hours=5)))))"
      ],
      "metadata": {
        "id": "jW5LWMUcY7Ie",
        "cellView": "form"
      },
      "id": "jW5LWMUcY7Ie",
      "execution_count": null,
      "outputs": []
    },
    {
      "cell_type": "markdown",
      "metadata": {
        "id": "e0974ab7-4585-41ad-9e4c-e9af1120c9a7"
      },
      "source": [
        "Can you tell which of the kinematic variables are raw and which are 'processed'? \n",
        "\n",
        "**TASK:** Select kinematic data from the list above that you want to visually compare to muscle activity. You can change your selection at any time after activating the menu (no need to re-activate if you are able to edit your selections).\n"
      ],
      "id": "e0974ab7-4585-41ad-9e4c-e9af1120c9a7"
    },
    {
      "cell_type": "code",
      "metadata": {
        "id": "a04ffaee-fe1a-444b-a3b3-c247815d57a4",
        "cellView": "form"
      },
      "source": [
        "#@markdown **TASK:** Run this code cell to plot the emg envelopes \n",
        "#@markdown and the selected kinematic variables. \n",
        "#@markdown > Note: the y-axis label on the kinematics plot\n",
        "#@markdown is blank because different variables will have different units. \n",
        "#@markdown You can add your own manually later in another program.\n",
        "\n",
        "fig = make_subplots(rows=2, cols=1,\n",
        "                    shared_xaxes=True,\n",
        "                    vertical_spacing=0.02)\n",
        "\n",
        "fig.add_trace(go.Scatter(x = df_rate['time'].values, y = df_rate['emg0'].values,\n",
        "                         line_color='orange',name='lateral'),\n",
        "              row=1, col=1)\n",
        "fig.add_trace(go.Scatter(x = df_rate['time'].values, y = df_rate['emg1'].values,\n",
        "                         line_color='purple',name='medial'),\n",
        "              row=1, col=1)\n",
        "\n",
        "if len(w_kinematics.value)>0:\n",
        "    for k in list(w_kinematics.value):\n",
        "        fig.add_trace(go.Scatter(x = df_vid_selection['time'].values, \n",
        "                                 y = df_vid_selection[k].values,name=k),\n",
        "                      row=2, col=1)\n",
        "    print('Plot created at ' + str(datetime.now(timezone(-timedelta(hours=5)))))\n",
        "\n",
        "if len(w_kinematics.value)==0:\n",
        "    print('Need to select markers to plot')\n",
        "    print('Task not completed, but cell run at ' + str(datetime.now(timezone(-timedelta(hours=5)))))\n",
        "\n",
        "fig.update_layout(xaxis2_title=\"time(seconds)\", yaxis_title='emg amplitude',width=800, height=500)\n",
        "fig.show()\n",
        "\n",
        "# fig = make_subplots(rows=4, cols=1,\n",
        "#                     shared_xaxes=True,\n",
        "#                     vertical_spacing=0.02)\n",
        "\n",
        "# fig.add_trace(go.Scatter(x = df_vid['time'].values, y = df_vid['2_Tip_2_K3_speed'].values,line_color=sns.xkcd_rgb['black'],name='2_Tip_2_K3_speed'),\n",
        "#               row=3, col=1)\n",
        "\n",
        "# fig.add_trace(go.Scatter(x = df_rate['time'].values, y = df_rate['emg0'].values,line_color='orange',name='emg0'),\n",
        "#               row=4, col=1)\n",
        "# fig.add_trace(go.Scatter(x = df_rate['time'].values, y = df_rate['emg1'].values,line_color='purple',name='emg1'),\n",
        "#               row=4, col=1)\n",
        "\n",
        "# fig.add_trace(go.Scatter(x = df_vid['time'].values, y = df_vid['2_K2_x'].values,line_color=sns.xkcd_rgb['green'],name='2_K2_x'),\n",
        "#               row=1, col=1)\n",
        "# fig.add_trace(go.Scatter(x = df_vid['time'].values, y = df_vid['2_K2_y'].values,line_color=sns.xkcd_rgb['aqua'],name='2_K2_y'),\n",
        "#               row=1, col=1)\n",
        "\n",
        "# fig.add_trace(go.Scatter(x = df_vid['time'].values, y = df_vid['2_Tip_2_K3_orientation'].values,line_color=sns.xkcd_rgb['red'],name='2_Tip_2_K3_orientation'),\n",
        "#               row=2, col=1)\n",
        "\n",
        "\n",
        "# fig.update_layout(width=1000, height=800)\n",
        "\n",
        "# fig = go.Figure()\n",
        "# for k,c in zip(kinematics_to_plot,colors_to_plot):\n",
        "#   fig.add_trace(go.Scatter(x = df_vid['time'].values, y = df_vid[k].values,line_color=sns.xkcd_rgb[c],name=k))\n",
        "# fig.add_trace(go.Scatter(x = df_rate['time'].values, y = df_rate['emg0'].values,line_color='orange',name='emg0'))\n",
        "# fig.add_trace(go.Scatter(x = df_rate['time'].values, y = df_rate['emg1'].values,line_color='purple',name='emg1'))\n",
        "# fig.update_layout(xaxis_title=\"time(seconds)\", yaxis_title='amplitude',width=1000, height=500)\n",
        "# fig.show()\n",
        "# hfig,ax = plt.subplots(1)\n",
        "# for k,c in zip(kinematics_to_plot,colors_to_plot):\n",
        "#     ax.plot(df_vid['time'],df_vid[k],linewidth = 2,color = sns.xkcd_rgb[c],label = k,alpha = 0.75)\n",
        "# ax.plot(df_rate['time'],df_rate['emg0'].values,linewidth = 2,color = sns.xkcd_rgb['blue'],alpha = 0.75,label = 'EMG channel 0')\n",
        "# ax.plot(df_rate['time'],df_rate['emg1'].values,linewidth = 2,color = sns.xkcd_rgb['orange'],alpha = 0.75,label = 'EMG channel 1')\n",
        "# plt.legend();"
      ],
      "id": "a04ffaee-fe1a-444b-a3b3-c247815d57a4",
      "execution_count": null,
      "outputs": []
    },
    {
      "cell_type": "markdown",
      "metadata": {
        "tags": [],
        "id": "8308e25c-a976-4aa2-9a77-7f20ea762ab0"
      },
      "source": [
        "Think about how you would qualitatively describe the relationship between the two muscle signals and the kinematic variables (and the relationship among kinematic variables). Come up with some hypotheses to quantitatively test. What metrics would you use to test your hypotheses?"
      ],
      "id": "8308e25c-a976-4aa2-9a77-7f20ea762ab0"
    }
  ]
}